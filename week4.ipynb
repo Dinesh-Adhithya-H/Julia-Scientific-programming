{
 "cells": [
  {
   "cell_type": "code",
   "execution_count": 5,
   "id": "25b44665-5141-4afd-ad18-10abeb2cbc28",
   "metadata": {},
   "outputs": [
    {
     "data": {
      "text/plain": [
       "121×6 Matrix{Any}:\n",
       "    \"PatientID\"  \"Cat1\"  \"Cat2\"    \"Var1\"    \"Var2\"    \"Var3\"\n",
       "   1             \"A\"     \"C\"     38.2568    5.93913  35.0579\n",
       "   2             \"A\"     \"C\"     17.8317    5.34754  21.131\n",
       "   8             \"A\"     \"B\"     16.0218    6.60709  60.9436\n",
       "   9             \"A\"     \"C\"     45.1158    6.00733  21.8797\n",
       "  16             \"A\"     \"C\"     20.448     8.54819  20.6623\n",
       "  18             \"A\"     \"B\"     28.3549    7.95642  33.1807\n",
       "  25             \"A\"     \"C\"     22.4497    6.34618  40.2365\n",
       "  28             \"A\"     \"B\"     48.4125    5.32583  28.8956\n",
       "  29             \"A\"     \"C\"     40.0075   11.4189   71.5911\n",
       "  33             \"A\"     \"C\"     20.7181    5.37768  27.4216\n",
       "  37             \"A\"     \"B\"     17.0396    5.34168  24.3501\n",
       "  38             \"A\"     \"B\"     42.6687    5.82284  52.361\n",
       "   ⋮                                                  ⋮\n",
       "  76             \"B\"     \"R\"     17.0029    5.39477  31.1297\n",
       "  78             \"B\"     \"L\"     55.3879    4.15304  40.0846\n",
       "  80             \"B\"     \"R\"     20.2205    6.36442  45.435\n",
       "  83             \"B\"     \"L\"     16.4172    3.84167  89.6969\n",
       "  84             \"B\"     \"R\"     47.6224    5.40032  47.4541\n",
       "  86             \"B\"     \"L\"     73.0229    3.38349  55.1737\n",
       "  92             \"B\"     \"R\"     16.4106    4.30351  87.7357\n",
       "  95             \"B\"     \"R\"     16.2801    3.37252  52.6018\n",
       " 101             \"B\"     \"L\"     16.8883    3.19598  60.1883\n",
       " 113             \"B\"     \"R\"     32.3537    3.38677  30.0157\n",
       " 115             \"B\"     \"R\"     20.1379    3.42731  44.6893\n",
       " 119             \"B\"     \"L\"     17.6144    3.45116  40.6947"
      ]
     },
     "execution_count": 5,
     "metadata": {},
     "output_type": "execute_result"
    }
   ],
   "source": [
    "using DelimitedFiles\n",
    "data=readdlm(download(\"https://raw.githubusercontent.com/Dinesh-Adhithya-H/Julia-Scientific-programming/main/CCS.csv\"),',')"
   ]
  },
  {
   "cell_type": "code",
   "execution_count": 17,
   "id": "d0f027c5-e0f1-4c5a-a1c3-27c3b54efec9",
   "metadata": {},
   "outputs": [
    {
     "name": "stderr",
     "output_type": "stream",
     "text": [
      "\u001b[32m\u001b[1m   Resolving\u001b[22m\u001b[39m package versions...\n",
      "\u001b[32m\u001b[1m  No Changes\u001b[22m\u001b[39m to `~/.julia/environments/v1.6/Project.toml`\n",
      "\u001b[32m\u001b[1m  No Changes\u001b[22m\u001b[39m to `~/.julia/environments/v1.6/Manifest.toml`\n",
      "\u001b[32m\u001b[1m   Resolving\u001b[22m\u001b[39m package versions...\n",
      "\u001b[32m\u001b[1m  No Changes\u001b[22m\u001b[39m to `~/.julia/environments/v1.6/Project.toml`\n",
      "\u001b[32m\u001b[1m  No Changes\u001b[22m\u001b[39m to `~/.julia/environments/v1.6/Manifest.toml`\n",
      "\u001b[32m\u001b[1m   Resolving\u001b[22m\u001b[39m package versions...\n",
      "\u001b[32m\u001b[1m  No Changes\u001b[22m\u001b[39m to `~/.julia/environments/v1.6/Project.toml`\n",
      "\u001b[32m\u001b[1m  No Changes\u001b[22m\u001b[39m to `~/.julia/environments/v1.6/Manifest.toml`\n",
      "\u001b[32m\u001b[1m   Resolving\u001b[22m\u001b[39m package versions...\n",
      "\u001b[32m\u001b[1m  No Changes\u001b[22m\u001b[39m to `~/.julia/environments/v1.6/Project.toml`\n",
      "\u001b[32m\u001b[1m  No Changes\u001b[22m\u001b[39m to `~/.julia/environments/v1.6/Manifest.toml`\n",
      "\u001b[32m\u001b[1m   Resolving\u001b[22m\u001b[39m package versions...\n",
      "\u001b[32m\u001b[1m  No Changes\u001b[22m\u001b[39m to `~/.julia/environments/v1.6/Project.toml`\n",
      "\u001b[32m\u001b[1m  No Changes\u001b[22m\u001b[39m to `~/.julia/environments/v1.6/Manifest.toml`\n",
      "\u001b[32m\u001b[1m   Resolving\u001b[22m\u001b[39m package versions...\n",
      "\u001b[32m\u001b[1m  No Changes\u001b[22m\u001b[39m to `~/.julia/environments/v1.6/Project.toml`\n",
      "\u001b[32m\u001b[1m  No Changes\u001b[22m\u001b[39m to `~/.julia/environments/v1.6/Manifest.toml`\n",
      "\u001b[32m\u001b[1m   Resolving\u001b[22m\u001b[39m package versions...\n",
      "\u001b[32m\u001b[1m  No Changes\u001b[22m\u001b[39m to `~/.julia/environments/v1.6/Project.toml`\n",
      "\u001b[32m\u001b[1m  No Changes\u001b[22m\u001b[39m to `~/.julia/environments/v1.6/Manifest.toml`\n"
     ]
    }
   ],
   "source": [
    "import Pkg\n",
    "Pkg.add(\"StatsBase\")\n",
    "Pkg.add(\"CSV\")\n",
    "Pkg.add(\"PyPlot\")\n",
    "Pkg.add(\"Distributions\")\n",
    "Pkg.add(\"HypothesisTests\")\n",
    "Pkg.add(\"StatsPlots\")\n",
    "Pkg.add(\"GLM\")"
   ]
  },
  {
   "cell_type": "code",
   "execution_count": 21,
   "id": "e8b58f37-9ed1-41bf-bd69-e87203923fd5",
   "metadata": {},
   "outputs": [],
   "source": [
    "using Distributions\n",
    "using StatsBase\n",
    "using CSV\n",
    "using DataFrames\n",
    "#using HypothesisTests\n",
    "#using StatsPlots\n",
    "#using GLM"
   ]
  },
  {
   "cell_type": "code",
   "execution_count": 34,
   "id": "7dcf83a4-b393-4e5b-afe3-31630f95630a",
   "metadata": {},
   "outputs": [],
   "source": [
    "age=rand(18:80,100)\n",
    "wcc=round.(rand(Distributions.Normal(12,2),100))\n",
    "crp=round.(Int,rand(Distributions.Chisq(4),100))\n",
    "treatment=rand([\"A\",\"B\"],100)\n",
    "result=rand([\"improved\",\"static\",\"worse\"],100);"
   ]
  },
  {
   "cell_type": "code",
   "execution_count": 29,
   "id": "b89cca07-5ba7-4ae0-ae29-4cfbfdf4e253",
   "metadata": {},
   "outputs": [
    {
     "data": {
      "text/plain": [
       "3.507474747474748"
      ]
     },
     "execution_count": 29,
     "metadata": {},
     "output_type": "execute_result"
    }
   ],
   "source": [
    "var(wcc)"
   ]
  },
  {
   "cell_type": "code",
   "execution_count": 30,
   "id": "81cf44f1-9134-446c-9b43-2668b68eab86",
   "metadata": {},
   "outputs": [
    {
     "name": "stdout",
     "output_type": "stream",
     "text": [
      "Summary Stats:\n",
      "Length:         100\n",
      "Missing Count:  0\n",
      "Mean:           51.510000\n",
      "Minimum:        18.000000\n",
      "1st Quartile:   38.750000\n",
      "Median:         53.000000\n",
      "3rd Quartile:   65.250000\n",
      "Maximum:        80.000000\n",
      "Type:           Int64\n"
     ]
    }
   ],
   "source": [
    "StatsBase.describe(age)"
   ]
  },
  {
   "cell_type": "code",
   "execution_count": 32,
   "id": "5261fc37-2f7c-4f0c-9551-42626fe3a37b",
   "metadata": {},
   "outputs": [
    {
     "data": {
      "text/plain": [
       "Summary Stats:\n",
       "Length:         100\n",
       "Missing Count:  0\n",
       "Mean:           11.740000\n",
       "Minimum:        7.000000\n",
       "1st Quartile:   10.000000\n",
       "Median:         12.000000\n",
       "3rd Quartile:   13.000000\n",
       "Maximum:        16.000000\n"
      ]
     },
     "execution_count": 32,
     "metadata": {},
     "output_type": "execute_result"
    }
   ],
   "source": [
    "StatsBase.summarystats(wcc)"
   ]
  },
  {
   "cell_type": "code",
   "execution_count": 33,
   "id": "59db28a0-c23d-477f-8570-b90b12a09c0a",
   "metadata": {},
   "outputs": [
    {
     "data": {
      "text/html": [
       "<table class=\"data-frame\"><thead><tr><th></th><th>Age</th><th>WCC</th><th>CRP</th><th>Treatment</th><th>Result</th></tr><tr><th></th><th>Int64</th><th>Float64</th><th>Int64</th><th>String</th><th>String</th></tr></thead><tbody><p>100 rows × 5 columns</p><tr><th>1</th><td>55</td><td>14.0</td><td>15</td><td>B</td><td>improved</td></tr><tr><th>2</th><td>76</td><td>12.0</td><td>3</td><td>A</td><td>worse</td></tr><tr><th>3</th><td>56</td><td>11.0</td><td>2</td><td>A</td><td>static</td></tr><tr><th>4</th><td>70</td><td>10.0</td><td>1</td><td>A</td><td>worse</td></tr><tr><th>5</th><td>55</td><td>13.0</td><td>4</td><td>B</td><td>worse</td></tr><tr><th>6</th><td>39</td><td>11.0</td><td>4</td><td>A</td><td>worse</td></tr><tr><th>7</th><td>34</td><td>9.0</td><td>9</td><td>B</td><td>improved</td></tr><tr><th>8</th><td>63</td><td>8.0</td><td>2</td><td>A</td><td>improved</td></tr><tr><th>9</th><td>74</td><td>10.0</td><td>3</td><td>A</td><td>improved</td></tr><tr><th>10</th><td>38</td><td>12.0</td><td>1</td><td>B</td><td>static</td></tr><tr><th>11</th><td>56</td><td>13.0</td><td>5</td><td>A</td><td>worse</td></tr><tr><th>12</th><td>32</td><td>12.0</td><td>3</td><td>A</td><td>static</td></tr><tr><th>13</th><td>62</td><td>12.0</td><td>4</td><td>A</td><td>worse</td></tr><tr><th>14</th><td>34</td><td>12.0</td><td>2</td><td>B</td><td>worse</td></tr><tr><th>15</th><td>34</td><td>10.0</td><td>6</td><td>B</td><td>static</td></tr><tr><th>16</th><td>66</td><td>13.0</td><td>5</td><td>A</td><td>worse</td></tr><tr><th>17</th><td>33</td><td>9.0</td><td>3</td><td>A</td><td>improved</td></tr><tr><th>18</th><td>46</td><td>11.0</td><td>2</td><td>A</td><td>worse</td></tr><tr><th>19</th><td>57</td><td>12.0</td><td>1</td><td>A</td><td>static</td></tr><tr><th>20</th><td>34</td><td>11.0</td><td>1</td><td>B</td><td>worse</td></tr><tr><th>21</th><td>33</td><td>9.0</td><td>1</td><td>B</td><td>improved</td></tr><tr><th>22</th><td>48</td><td>14.0</td><td>3</td><td>B</td><td>static</td></tr><tr><th>23</th><td>69</td><td>11.0</td><td>4</td><td>B</td><td>static</td></tr><tr><th>24</th><td>53</td><td>15.0</td><td>2</td><td>A</td><td>static</td></tr><tr><th>25</th><td>49</td><td>11.0</td><td>7</td><td>A</td><td>static</td></tr><tr><th>26</th><td>50</td><td>11.0</td><td>3</td><td>B</td><td>static</td></tr><tr><th>27</th><td>34</td><td>12.0</td><td>4</td><td>A</td><td>worse</td></tr><tr><th>28</th><td>50</td><td>11.0</td><td>3</td><td>A</td><td>worse</td></tr><tr><th>29</th><td>75</td><td>9.0</td><td>5</td><td>B</td><td>improved</td></tr><tr><th>30</th><td>62</td><td>15.0</td><td>5</td><td>B</td><td>improved</td></tr><tr><th>&vellip;</th><td>&vellip;</td><td>&vellip;</td><td>&vellip;</td><td>&vellip;</td><td>&vellip;</td></tr></tbody></table>"
      ],
      "text/latex": [
       "\\begin{tabular}{r|ccccc}\n",
       "\t& Age & WCC & CRP & Treatment & Result\\\\\n",
       "\t\\hline\n",
       "\t& Int64 & Float64 & Int64 & String & String\\\\\n",
       "\t\\hline\n",
       "\t1 & 55 & 14.0 & 15 & B & improved \\\\\n",
       "\t2 & 76 & 12.0 & 3 & A & worse \\\\\n",
       "\t3 & 56 & 11.0 & 2 & A & static \\\\\n",
       "\t4 & 70 & 10.0 & 1 & A & worse \\\\\n",
       "\t5 & 55 & 13.0 & 4 & B & worse \\\\\n",
       "\t6 & 39 & 11.0 & 4 & A & worse \\\\\n",
       "\t7 & 34 & 9.0 & 9 & B & improved \\\\\n",
       "\t8 & 63 & 8.0 & 2 & A & improved \\\\\n",
       "\t9 & 74 & 10.0 & 3 & A & improved \\\\\n",
       "\t10 & 38 & 12.0 & 1 & B & static \\\\\n",
       "\t11 & 56 & 13.0 & 5 & A & worse \\\\\n",
       "\t12 & 32 & 12.0 & 3 & A & static \\\\\n",
       "\t13 & 62 & 12.0 & 4 & A & worse \\\\\n",
       "\t14 & 34 & 12.0 & 2 & B & worse \\\\\n",
       "\t15 & 34 & 10.0 & 6 & B & static \\\\\n",
       "\t16 & 66 & 13.0 & 5 & A & worse \\\\\n",
       "\t17 & 33 & 9.0 & 3 & A & improved \\\\\n",
       "\t18 & 46 & 11.0 & 2 & A & worse \\\\\n",
       "\t19 & 57 & 12.0 & 1 & A & static \\\\\n",
       "\t20 & 34 & 11.0 & 1 & B & worse \\\\\n",
       "\t21 & 33 & 9.0 & 1 & B & improved \\\\\n",
       "\t22 & 48 & 14.0 & 3 & B & static \\\\\n",
       "\t23 & 69 & 11.0 & 4 & B & static \\\\\n",
       "\t24 & 53 & 15.0 & 2 & A & static \\\\\n",
       "\t25 & 49 & 11.0 & 7 & A & static \\\\\n",
       "\t26 & 50 & 11.0 & 3 & B & static \\\\\n",
       "\t27 & 34 & 12.0 & 4 & A & worse \\\\\n",
       "\t28 & 50 & 11.0 & 3 & A & worse \\\\\n",
       "\t29 & 75 & 9.0 & 5 & B & improved \\\\\n",
       "\t30 & 62 & 15.0 & 5 & B & improved \\\\\n",
       "\t$\\dots$ & $\\dots$ & $\\dots$ & $\\dots$ & $\\dots$ & $\\dots$ \\\\\n",
       "\\end{tabular}\n"
      ],
      "text/plain": [
       "\u001b[1m100×5 DataFrame\u001b[0m\n",
       "\u001b[1m Row \u001b[0m│\u001b[1m Age   \u001b[0m\u001b[1m WCC     \u001b[0m\u001b[1m CRP   \u001b[0m\u001b[1m Treatment \u001b[0m\u001b[1m Result   \u001b[0m\n",
       "\u001b[1m     \u001b[0m│\u001b[90m Int64 \u001b[0m\u001b[90m Float64 \u001b[0m\u001b[90m Int64 \u001b[0m\u001b[90m String    \u001b[0m\u001b[90m String   \u001b[0m\n",
       "─────┼────────────────────────────────────────────\n",
       "   1 │    55     14.0     15  B          improved\n",
       "   2 │    76     12.0      3  A          worse\n",
       "   3 │    56     11.0      2  A          static\n",
       "   4 │    70     10.0      1  A          worse\n",
       "   5 │    55     13.0      4  B          worse\n",
       "   6 │    39     11.0      4  A          worse\n",
       "   7 │    34      9.0      9  B          improved\n",
       "   8 │    63      8.0      2  A          improved\n",
       "   9 │    74     10.0      3  A          improved\n",
       "  10 │    38     12.0      1  B          static\n",
       "  11 │    56     13.0      5  A          worse\n",
       "  ⋮  │   ⋮       ⋮       ⋮        ⋮         ⋮\n",
       "  91 │    33     13.0      3  B          improved\n",
       "  92 │    41      9.0      6  A          improved\n",
       "  93 │    45     10.0      3  A          improved\n",
       "  94 │    80     10.0      8  B          static\n",
       "  95 │    49     12.0      2  B          worse\n",
       "  96 │    68     12.0      7  A          static\n",
       "  97 │    58     12.0      5  B          static\n",
       "  98 │    79     10.0      8  B          static\n",
       "  99 │    23     13.0     10  A          worse\n",
       " 100 │    74     11.0      1  A          improved\n",
       "\u001b[36m                                   79 rows omitted\u001b[0m"
      ]
     },
     "execution_count": 33,
     "metadata": {},
     "output_type": "execute_result"
    }
   ],
   "source": [
    "data=DataFrame(Age=age,WCC=wcc,CRP=crp,Treatment=treatment,Result=result)"
   ]
  },
  {
   "cell_type": "code",
   "execution_count": 35,
   "id": "66234b7d-ca61-429f-8fc0-c9437352bfce",
   "metadata": {},
   "outputs": [
    {
     "data": {
      "text/plain": [
       "(100, 5)"
      ]
     },
     "execution_count": 35,
     "metadata": {},
     "output_type": "execute_result"
    }
   ],
   "source": [
    "size(data)"
   ]
  },
  {
   "cell_type": "code",
   "execution_count": 36,
   "id": "3f92d7a4-5596-45f6-9917-4ec65c1e6b30",
   "metadata": {},
   "outputs": [
    {
     "data": {
      "text/html": [
       "<table class=\"data-frame\"><thead><tr><th></th><th>Age</th><th>WCC</th><th>CRP</th><th>Treatment</th><th>Result</th></tr><tr><th></th><th>Int64</th><th>Float64</th><th>Int64</th><th>String</th><th>String</th></tr></thead><tbody><p>6 rows × 5 columns</p><tr><th>1</th><td>55</td><td>14.0</td><td>15</td><td>B</td><td>improved</td></tr><tr><th>2</th><td>76</td><td>12.0</td><td>3</td><td>A</td><td>worse</td></tr><tr><th>3</th><td>56</td><td>11.0</td><td>2</td><td>A</td><td>static</td></tr><tr><th>4</th><td>70</td><td>10.0</td><td>1</td><td>A</td><td>worse</td></tr><tr><th>5</th><td>55</td><td>13.0</td><td>4</td><td>B</td><td>worse</td></tr><tr><th>6</th><td>39</td><td>11.0</td><td>4</td><td>A</td><td>worse</td></tr></tbody></table>"
      ],
      "text/latex": [
       "\\begin{tabular}{r|ccccc}\n",
       "\t& Age & WCC & CRP & Treatment & Result\\\\\n",
       "\t\\hline\n",
       "\t& Int64 & Float64 & Int64 & String & String\\\\\n",
       "\t\\hline\n",
       "\t1 & 55 & 14.0 & 15 & B & improved \\\\\n",
       "\t2 & 76 & 12.0 & 3 & A & worse \\\\\n",
       "\t3 & 56 & 11.0 & 2 & A & static \\\\\n",
       "\t4 & 70 & 10.0 & 1 & A & worse \\\\\n",
       "\t5 & 55 & 13.0 & 4 & B & worse \\\\\n",
       "\t6 & 39 & 11.0 & 4 & A & worse \\\\\n",
       "\\end{tabular}\n"
      ],
      "text/plain": [
       "\u001b[1m6×5 DataFrame\u001b[0m\n",
       "\u001b[1m Row \u001b[0m│\u001b[1m Age   \u001b[0m\u001b[1m WCC     \u001b[0m\u001b[1m CRP   \u001b[0m\u001b[1m Treatment \u001b[0m\u001b[1m Result   \u001b[0m\n",
       "\u001b[1m     \u001b[0m│\u001b[90m Int64 \u001b[0m\u001b[90m Float64 \u001b[0m\u001b[90m Int64 \u001b[0m\u001b[90m String    \u001b[0m\u001b[90m String   \u001b[0m\n",
       "─────┼────────────────────────────────────────────\n",
       "   1 │    55     14.0     15  B          improved\n",
       "   2 │    76     12.0      3  A          worse\n",
       "   3 │    56     11.0      2  A          static\n",
       "   4 │    70     10.0      1  A          worse\n",
       "   5 │    55     13.0      4  B          worse\n",
       "   6 │    39     11.0      4  A          worse"
      ]
     },
     "execution_count": 36,
     "metadata": {},
     "output_type": "execute_result"
    }
   ],
   "source": [
    "first(data,6)"
   ]
  },
  {
   "cell_type": "code",
   "execution_count": 43,
   "id": "0d1412f5-ffac-4b45-9148-cb9803d28111",
   "metadata": {},
   "outputs": [],
   "source": [
    "dataA=data[data[:,:Treatment].==\"A\",:]\n",
    "dataB=data[data[:,:Treatment].==\"B\",:];"
   ]
  },
  {
   "cell_type": "code",
   "execution_count": 44,
   "id": "772a6b26-bede-4ef2-a7ef-a3158f62806d",
   "metadata": {},
   "outputs": [
    {
     "data": {
      "text/html": [
       "<table class=\"data-frame\"><thead><tr><th></th><th>variable</th><th>mean</th><th>min</th><th>median</th><th>max</th><th>nmissing</th><th>eltype</th></tr><tr><th></th><th>Symbol</th><th>Union…</th><th>Any</th><th>Union…</th><th>Any</th><th>Int64</th><th>DataType</th></tr></thead><tbody><p>5 rows × 7 columns</p><tr><th>1</th><td>Age</td><td>51.51</td><td>18</td><td>53.0</td><td>80</td><td>0</td><td>Int64</td></tr><tr><th>2</th><td>WCC</td><td>11.74</td><td>7.0</td><td>12.0</td><td>16.0</td><td>0</td><td>Float64</td></tr><tr><th>3</th><td>CRP</td><td>4.29</td><td>0</td><td>3.0</td><td>15</td><td>0</td><td>Int64</td></tr><tr><th>4</th><td>Treatment</td><td></td><td>A</td><td></td><td>B</td><td>0</td><td>String</td></tr><tr><th>5</th><td>Result</td><td></td><td>improved</td><td></td><td>worse</td><td>0</td><td>String</td></tr></tbody></table>"
      ],
      "text/latex": [
       "\\begin{tabular}{r|ccccccc}\n",
       "\t& variable & mean & min & median & max & nmissing & eltype\\\\\n",
       "\t\\hline\n",
       "\t& Symbol & Union… & Any & Union… & Any & Int64 & DataType\\\\\n",
       "\t\\hline\n",
       "\t1 & Age & 51.51 & 18 & 53.0 & 80 & 0 & Int64 \\\\\n",
       "\t2 & WCC & 11.74 & 7.0 & 12.0 & 16.0 & 0 & Float64 \\\\\n",
       "\t3 & CRP & 4.29 & 0 & 3.0 & 15 & 0 & Int64 \\\\\n",
       "\t4 & Treatment &  & A &  & B & 0 & String \\\\\n",
       "\t5 & Result &  & improved &  & worse & 0 & String \\\\\n",
       "\\end{tabular}\n"
      ],
      "text/plain": [
       "\u001b[1m5×7 DataFrame\u001b[0m\n",
       "\u001b[1m Row \u001b[0m│\u001b[1m variable  \u001b[0m\u001b[1m mean   \u001b[0m\u001b[1m min      \u001b[0m\u001b[1m median \u001b[0m\u001b[1m max   \u001b[0m\u001b[1m nmissing \u001b[0m\u001b[1m eltype   \u001b[0m\n",
       "\u001b[1m     \u001b[0m│\u001b[90m Symbol    \u001b[0m\u001b[90m Union… \u001b[0m\u001b[90m Any      \u001b[0m\u001b[90m Union… \u001b[0m\u001b[90m Any   \u001b[0m\u001b[90m Int64    \u001b[0m\u001b[90m DataType \u001b[0m\n",
       "─────┼────────────────────────────────────────────────────────────────\n",
       "   1 │ Age        51.51   18        53.0    80            0  Int64\n",
       "   2 │ WCC        11.74   7.0       12.0    16.0          0  Float64\n",
       "   3 │ CRP        4.29    0         3.0     15            0  Int64\n",
       "   4 │ Treatment \u001b[90m        \u001b[0m A        \u001b[90m        \u001b[0m B             0  String\n",
       "   5 │ Result    \u001b[90m        \u001b[0m improved \u001b[90m        \u001b[0m worse         0  String"
      ]
     },
     "execution_count": 44,
     "metadata": {},
     "output_type": "execute_result"
    }
   ],
   "source": [
    "describe(data)"
   ]
  },
  {
   "cell_type": "code",
   "execution_count": 45,
   "id": "6817beaf-3289-4b9f-a07d-fbccb1534a6d",
   "metadata": {},
   "outputs": [
    {
     "data": {
      "text/html": [
       "<p><b>GroupedDataFrame with 2 groups based on key: Treatment</b></p><p><i>First Group (50 rows): Treatment = \"B\"</i></p><table class=\"data-frame\"><thead><tr><th></th><th>Age</th><th>WCC</th><th>CRP</th><th>Treatment</th><th>Result</th></tr><tr><th></th><th>Int64</th><th>Float64</th><th>Int64</th><th>String</th><th>String</th></tr></thead><tbody><tr><th>1</th><td>55</td><td>14.0</td><td>15</td><td>B</td><td>improved</td></tr><tr><th>2</th><td>55</td><td>13.0</td><td>4</td><td>B</td><td>worse</td></tr><tr><th>3</th><td>34</td><td>9.0</td><td>9</td><td>B</td><td>improved</td></tr><tr><th>4</th><td>38</td><td>12.0</td><td>1</td><td>B</td><td>static</td></tr><tr><th>5</th><td>34</td><td>12.0</td><td>2</td><td>B</td><td>worse</td></tr><tr><th>6</th><td>34</td><td>10.0</td><td>6</td><td>B</td><td>static</td></tr><tr><th>7</th><td>34</td><td>11.0</td><td>1</td><td>B</td><td>worse</td></tr><tr><th>8</th><td>33</td><td>9.0</td><td>1</td><td>B</td><td>improved</td></tr><tr><th>9</th><td>48</td><td>14.0</td><td>3</td><td>B</td><td>static</td></tr><tr><th>10</th><td>69</td><td>11.0</td><td>4</td><td>B</td><td>static</td></tr><tr><th>11</th><td>50</td><td>11.0</td><td>3</td><td>B</td><td>static</td></tr><tr><th>12</th><td>75</td><td>9.0</td><td>5</td><td>B</td><td>improved</td></tr><tr><th>13</th><td>62</td><td>15.0</td><td>5</td><td>B</td><td>improved</td></tr><tr><th>14</th><td>27</td><td>11.0</td><td>10</td><td>B</td><td>improved</td></tr><tr><th>15</th><td>64</td><td>13.0</td><td>4</td><td>B</td><td>worse</td></tr><tr><th>16</th><td>76</td><td>14.0</td><td>8</td><td>B</td><td>improved</td></tr><tr><th>17</th><td>46</td><td>10.0</td><td>7</td><td>B</td><td>improved</td></tr><tr><th>18</th><td>45</td><td>10.0</td><td>2</td><td>B</td><td>static</td></tr><tr><th>19</th><td>41</td><td>14.0</td><td>6</td><td>B</td><td>improved</td></tr><tr><th>20</th><td>54</td><td>11.0</td><td>1</td><td>B</td><td>improved</td></tr><tr><th>21</th><td>66</td><td>11.0</td><td>4</td><td>B</td><td>worse</td></tr><tr><th>22</th><td>55</td><td>9.0</td><td>4</td><td>B</td><td>improved</td></tr><tr><th>23</th><td>34</td><td>9.0</td><td>4</td><td>B</td><td>improved</td></tr><tr><th>24</th><td>55</td><td>10.0</td><td>8</td><td>B</td><td>improved</td></tr><tr><th>25</th><td>66</td><td>11.0</td><td>2</td><td>B</td><td>improved</td></tr><tr><th>26</th><td>53</td><td>12.0</td><td>15</td><td>B</td><td>worse</td></tr><tr><th>27</th><td>39</td><td>16.0</td><td>10</td><td>B</td><td>improved</td></tr><tr><th>28</th><td>78</td><td>14.0</td><td>2</td><td>B</td><td>improved</td></tr><tr><th>29</th><td>69</td><td>16.0</td><td>1</td><td>B</td><td>worse</td></tr><tr><th>30</th><td>50</td><td>12.0</td><td>4</td><td>B</td><td>improved</td></tr><tr><th>&vellip;</th><td>&vellip;</td><td>&vellip;</td><td>&vellip;</td><td>&vellip;</td><td>&vellip;</td></tr></tbody></table><p>&vellip;</p><p><i>Last Group (50 rows): Treatment = \"A\"</i></p><table class=\"data-frame\"><thead><tr><th></th><th>Age</th><th>WCC</th><th>CRP</th><th>Treatment</th><th>Result</th></tr><tr><th></th><th>Int64</th><th>Float64</th><th>Int64</th><th>String</th><th>String</th></tr></thead><tbody><tr><th>1</th><td>76</td><td>12.0</td><td>3</td><td>A</td><td>worse</td></tr><tr><th>2</th><td>56</td><td>11.0</td><td>2</td><td>A</td><td>static</td></tr><tr><th>3</th><td>70</td><td>10.0</td><td>1</td><td>A</td><td>worse</td></tr><tr><th>4</th><td>39</td><td>11.0</td><td>4</td><td>A</td><td>worse</td></tr><tr><th>5</th><td>63</td><td>8.0</td><td>2</td><td>A</td><td>improved</td></tr><tr><th>6</th><td>74</td><td>10.0</td><td>3</td><td>A</td><td>improved</td></tr><tr><th>7</th><td>56</td><td>13.0</td><td>5</td><td>A</td><td>worse</td></tr><tr><th>8</th><td>32</td><td>12.0</td><td>3</td><td>A</td><td>static</td></tr><tr><th>9</th><td>62</td><td>12.0</td><td>4</td><td>A</td><td>worse</td></tr><tr><th>10</th><td>66</td><td>13.0</td><td>5</td><td>A</td><td>worse</td></tr><tr><th>11</th><td>33</td><td>9.0</td><td>3</td><td>A</td><td>improved</td></tr><tr><th>12</th><td>46</td><td>11.0</td><td>2</td><td>A</td><td>worse</td></tr><tr><th>13</th><td>57</td><td>12.0</td><td>1</td><td>A</td><td>static</td></tr><tr><th>14</th><td>53</td><td>15.0</td><td>2</td><td>A</td><td>static</td></tr><tr><th>15</th><td>49</td><td>11.0</td><td>7</td><td>A</td><td>static</td></tr><tr><th>16</th><td>34</td><td>12.0</td><td>4</td><td>A</td><td>worse</td></tr><tr><th>17</th><td>50</td><td>11.0</td><td>3</td><td>A</td><td>worse</td></tr><tr><th>18</th><td>21</td><td>13.0</td><td>3</td><td>A</td><td>improved</td></tr><tr><th>19</th><td>18</td><td>12.0</td><td>7</td><td>A</td><td>static</td></tr><tr><th>20</th><td>66</td><td>12.0</td><td>8</td><td>A</td><td>improved</td></tr><tr><th>21</th><td>34</td><td>15.0</td><td>1</td><td>A</td><td>static</td></tr><tr><th>22</th><td>32</td><td>13.0</td><td>2</td><td>A</td><td>worse</td></tr><tr><th>23</th><td>60</td><td>13.0</td><td>3</td><td>A</td><td>static</td></tr><tr><th>24</th><td>44</td><td>9.0</td><td>6</td><td>A</td><td>improved</td></tr><tr><th>25</th><td>63</td><td>13.0</td><td>3</td><td>A</td><td>static</td></tr><tr><th>26</th><td>18</td><td>13.0</td><td>5</td><td>A</td><td>worse</td></tr><tr><th>27</th><td>45</td><td>12.0</td><td>8</td><td>A</td><td>improved</td></tr><tr><th>28</th><td>61</td><td>11.0</td><td>2</td><td>A</td><td>static</td></tr><tr><th>29</th><td>56</td><td>12.0</td><td>11</td><td>A</td><td>static</td></tr><tr><th>30</th><td>29</td><td>7.0</td><td>2</td><td>A</td><td>worse</td></tr><tr><th>&vellip;</th><td>&vellip;</td><td>&vellip;</td><td>&vellip;</td><td>&vellip;</td><td>&vellip;</td></tr></tbody></table>"
      ],
      "text/latex": [
       "GroupedDataFrame with 2 groups based on key: Treatment\n",
       "\n",
       "First Group (50 rows): Treatment = \"B\"\n",
       "\n",
       "\\begin{tabular}{r|ccccc}\n",
       "\t& Age & WCC & CRP & Treatment & Result\\\\\n",
       "\t\\hline\n",
       "\t& Int64 & Float64 & Int64 & String & String\\\\\n",
       "\t\\hline\n",
       "\t1 & 55 & 14.0 & 15 & B & improved \\\\\n",
       "\t2 & 55 & 13.0 & 4 & B & worse \\\\\n",
       "\t3 & 34 & 9.0 & 9 & B & improved \\\\\n",
       "\t4 & 38 & 12.0 & 1 & B & static \\\\\n",
       "\t5 & 34 & 12.0 & 2 & B & worse \\\\\n",
       "\t6 & 34 & 10.0 & 6 & B & static \\\\\n",
       "\t7 & 34 & 11.0 & 1 & B & worse \\\\\n",
       "\t8 & 33 & 9.0 & 1 & B & improved \\\\\n",
       "\t9 & 48 & 14.0 & 3 & B & static \\\\\n",
       "\t10 & 69 & 11.0 & 4 & B & static \\\\\n",
       "\t11 & 50 & 11.0 & 3 & B & static \\\\\n",
       "\t12 & 75 & 9.0 & 5 & B & improved \\\\\n",
       "\t13 & 62 & 15.0 & 5 & B & improved \\\\\n",
       "\t14 & 27 & 11.0 & 10 & B & improved \\\\\n",
       "\t15 & 64 & 13.0 & 4 & B & worse \\\\\n",
       "\t16 & 76 & 14.0 & 8 & B & improved \\\\\n",
       "\t17 & 46 & 10.0 & 7 & B & improved \\\\\n",
       "\t18 & 45 & 10.0 & 2 & B & static \\\\\n",
       "\t19 & 41 & 14.0 & 6 & B & improved \\\\\n",
       "\t20 & 54 & 11.0 & 1 & B & improved \\\\\n",
       "\t21 & 66 & 11.0 & 4 & B & worse \\\\\n",
       "\t22 & 55 & 9.0 & 4 & B & improved \\\\\n",
       "\t23 & 34 & 9.0 & 4 & B & improved \\\\\n",
       "\t24 & 55 & 10.0 & 8 & B & improved \\\\\n",
       "\t25 & 66 & 11.0 & 2 & B & improved \\\\\n",
       "\t26 & 53 & 12.0 & 15 & B & worse \\\\\n",
       "\t27 & 39 & 16.0 & 10 & B & improved \\\\\n",
       "\t28 & 78 & 14.0 & 2 & B & improved \\\\\n",
       "\t29 & 69 & 16.0 & 1 & B & worse \\\\\n",
       "\t30 & 50 & 12.0 & 4 & B & improved \\\\\n",
       "\t$\\dots$ & $\\dots$ & $\\dots$ & $\\dots$ & $\\dots$ & $\\dots$ \\\\\n",
       "\\end{tabular}\n",
       "\n",
       "$\\dots$\n",
       "\n",
       "Last Group (50 rows): Treatment = \"A\"\n",
       "\n",
       "\\begin{tabular}{r|ccccc}\n",
       "\t& Age & WCC & CRP & Treatment & Result\\\\\n",
       "\t\\hline\n",
       "\t& Int64 & Float64 & Int64 & String & String\\\\\n",
       "\t\\hline\n",
       "\t1 & 76 & 12.0 & 3 & A & worse \\\\\n",
       "\t2 & 56 & 11.0 & 2 & A & static \\\\\n",
       "\t3 & 70 & 10.0 & 1 & A & worse \\\\\n",
       "\t4 & 39 & 11.0 & 4 & A & worse \\\\\n",
       "\t5 & 63 & 8.0 & 2 & A & improved \\\\\n",
       "\t6 & 74 & 10.0 & 3 & A & improved \\\\\n",
       "\t7 & 56 & 13.0 & 5 & A & worse \\\\\n",
       "\t8 & 32 & 12.0 & 3 & A & static \\\\\n",
       "\t9 & 62 & 12.0 & 4 & A & worse \\\\\n",
       "\t10 & 66 & 13.0 & 5 & A & worse \\\\\n",
       "\t11 & 33 & 9.0 & 3 & A & improved \\\\\n",
       "\t12 & 46 & 11.0 & 2 & A & worse \\\\\n",
       "\t13 & 57 & 12.0 & 1 & A & static \\\\\n",
       "\t14 & 53 & 15.0 & 2 & A & static \\\\\n",
       "\t15 & 49 & 11.0 & 7 & A & static \\\\\n",
       "\t16 & 34 & 12.0 & 4 & A & worse \\\\\n",
       "\t17 & 50 & 11.0 & 3 & A & worse \\\\\n",
       "\t18 & 21 & 13.0 & 3 & A & improved \\\\\n",
       "\t19 & 18 & 12.0 & 7 & A & static \\\\\n",
       "\t20 & 66 & 12.0 & 8 & A & improved \\\\\n",
       "\t21 & 34 & 15.0 & 1 & A & static \\\\\n",
       "\t22 & 32 & 13.0 & 2 & A & worse \\\\\n",
       "\t23 & 60 & 13.0 & 3 & A & static \\\\\n",
       "\t24 & 44 & 9.0 & 6 & A & improved \\\\\n",
       "\t25 & 63 & 13.0 & 3 & A & static \\\\\n",
       "\t26 & 18 & 13.0 & 5 & A & worse \\\\\n",
       "\t27 & 45 & 12.0 & 8 & A & improved \\\\\n",
       "\t28 & 61 & 11.0 & 2 & A & static \\\\\n",
       "\t29 & 56 & 12.0 & 11 & A & static \\\\\n",
       "\t30 & 29 & 7.0 & 2 & A & worse \\\\\n",
       "\t$\\dots$ & $\\dots$ & $\\dots$ & $\\dots$ & $\\dots$ & $\\dots$ \\\\\n",
       "\\end{tabular}\n"
      ],
      "text/plain": [
       "GroupedDataFrame with 2 groups based on key: Treatment\n",
       "First Group (50 rows): Treatment = \"B\"\n",
       "\u001b[1m Row \u001b[0m│\u001b[1m Age   \u001b[0m\u001b[1m WCC     \u001b[0m\u001b[1m CRP   \u001b[0m\u001b[1m Treatment \u001b[0m\u001b[1m Result   \u001b[0m\n",
       "\u001b[1m     \u001b[0m│\u001b[90m Int64 \u001b[0m\u001b[90m Float64 \u001b[0m\u001b[90m Int64 \u001b[0m\u001b[90m String    \u001b[0m\u001b[90m String   \u001b[0m\n",
       "─────┼────────────────────────────────────────────\n",
       "   1 │    55     14.0     15  B          improved\n",
       "   2 │    55     13.0      4  B          worse\n",
       "   3 │    34      9.0      9  B          improved\n",
       "   4 │    38     12.0      1  B          static\n",
       "   5 │    34     12.0      2  B          worse\n",
       "   6 │    34     10.0      6  B          static\n",
       "   7 │    34     11.0      1  B          worse\n",
       "   8 │    33      9.0      1  B          improved\n",
       "   9 │    48     14.0      3  B          static\n",
       "  10 │    69     11.0      4  B          static\n",
       "  11 │    50     11.0      3  B          static\n",
       "  ⋮  │   ⋮       ⋮       ⋮        ⋮         ⋮\n",
       "  40 │    74     12.0      3  B          worse\n",
       "  41 │    51     10.0      3  B          static\n",
       "  42 │    55     14.0      1  B          static\n",
       "  43 │    55     15.0      2  B          worse\n",
       "  44 │    24      9.0      2  B          worse\n",
       "  45 │    60     10.0      4  B          improved\n",
       "  46 │    33     13.0      3  B          improved\n",
       "  47 │    80     10.0      8  B          static\n",
       "  48 │    49     12.0      2  B          worse\n",
       "  49 │    58     12.0      5  B          static\n",
       "  50 │    79     10.0      8  B          static\n",
       "\u001b[36m                                   28 rows omitted\u001b[0m\n",
       "⋮\n",
       "Last Group (50 rows): Treatment = \"A\"\n",
       "\u001b[1m Row \u001b[0m│\u001b[1m Age   \u001b[0m\u001b[1m WCC     \u001b[0m\u001b[1m CRP   \u001b[0m\u001b[1m Treatment \u001b[0m\u001b[1m Result   \u001b[0m\n",
       "\u001b[1m     \u001b[0m│\u001b[90m Int64 \u001b[0m\u001b[90m Float64 \u001b[0m\u001b[90m Int64 \u001b[0m\u001b[90m String    \u001b[0m\u001b[90m String   \u001b[0m\n",
       "─────┼────────────────────────────────────────────\n",
       "   1 │    76     12.0      3  A          worse\n",
       "   2 │    56     11.0      2  A          static\n",
       "   3 │    70     10.0      1  A          worse\n",
       "   4 │    39     11.0      4  A          worse\n",
       "   5 │    63      8.0      2  A          improved\n",
       "   6 │    74     10.0      3  A          improved\n",
       "   7 │    56     13.0      5  A          worse\n",
       "   8 │    32     12.0      3  A          static\n",
       "   9 │    62     12.0      4  A          worse\n",
       "  10 │    66     13.0      5  A          worse\n",
       "  11 │    33      9.0      3  A          improved\n",
       "  ⋮  │   ⋮       ⋮       ⋮        ⋮         ⋮\n",
       "  40 │    69     12.0      1  A          worse\n",
       "  41 │    71     14.0      7  A          improved\n",
       "  42 │    79     10.0      3  A          improved\n",
       "  43 │    50     15.0      1  A          static\n",
       "  44 │    65     14.0      1  A          static\n",
       "  45 │    69     14.0      7  A          improved\n",
       "  46 │    41      9.0      6  A          improved\n",
       "  47 │    45     10.0      3  A          improved\n",
       "  48 │    68     12.0      7  A          static\n",
       "  49 │    23     13.0     10  A          worse\n",
       "  50 │    74     11.0      1  A          improved\n",
       "\u001b[36m                                   28 rows omitted\u001b[0m"
      ]
     },
     "execution_count": 45,
     "metadata": {},
     "output_type": "execute_result"
    }
   ],
   "source": [
    "grouped_df=groupby(data,:Treatment)"
   ]
  },
  {
   "cell_type": "code",
   "execution_count": 50,
   "id": "eae77428-7a03-44e1-b4f6-dd457ca57845",
   "metadata": {},
   "outputs": [
    {
     "data": {
      "text/html": [
       "<table class=\"data-frame\"><thead><tr><th></th><th>Treatment</th><th>x1</th></tr><tr><th></th><th>String</th><th>Tuple…</th></tr></thead><tbody><p>2 rows × 2 columns</p><tr><th>1</th><td>B</td><td>(50, 5)</td></tr><tr><th>2</th><td>A</td><td>(50, 5)</td></tr></tbody></table>"
      ],
      "text/latex": [
       "\\begin{tabular}{r|cc}\n",
       "\t& Treatment & x1\\\\\n",
       "\t\\hline\n",
       "\t& String & Tuple…\\\\\n",
       "\t\\hline\n",
       "\t1 & B & (50, 5) \\\\\n",
       "\t2 & A & (50, 5) \\\\\n",
       "\\end{tabular}\n"
      ],
      "text/plain": [
       "\u001b[1m2×2 DataFrame\u001b[0m\n",
       "\u001b[1m Row \u001b[0m│\u001b[1m Treatment \u001b[0m\u001b[1m x1      \u001b[0m\n",
       "\u001b[1m     \u001b[0m│\u001b[90m String    \u001b[0m\u001b[90m Tuple…  \u001b[0m\n",
       "─────┼────────────────────\n",
       "   1 │ B          (50, 5)\n",
       "   2 │ A          (50, 5)"
      ]
     },
     "execution_count": 50,
     "metadata": {},
     "output_type": "execute_result"
    }
   ],
   "source": [
    "combine(size,grouped_df)"
   ]
  },
  {
   "cell_type": "code",
   "execution_count": 57,
   "id": "d8e65ccc-7325-4731-94db-17d058d7c8a9",
   "metadata": {},
   "outputs": [
    {
     "data": {
      "image/svg+xml": [
       "<?xml version=\"1.0\" encoding=\"utf-8\"?>\n",
       "<svg xmlns=\"http://www.w3.org/2000/svg\" xmlns:xlink=\"http://www.w3.org/1999/xlink\" width=\"600\" height=\"400\" viewBox=\"0 0 2400 1600\">\n",
       "<defs>\n",
       "  <clipPath id=\"clip600\">\n",
       "    <rect x=\"0\" y=\"0\" width=\"2400\" height=\"1600\"/>\n",
       "  </clipPath>\n",
       "</defs>\n",
       "<path clip-path=\"url(#clip600)\" d=\"\n",
       "M0 1600 L2400 1600 L2400 0 L0 0  Z\n",
       "  \" fill=\"#ffffff\" fill-rule=\"evenodd\" fill-opacity=\"1\"/>\n",
       "<defs>\n",
       "  <clipPath id=\"clip601\">\n",
       "    <rect x=\"480\" y=\"0\" width=\"1681\" height=\"1600\"/>\n",
       "  </clipPath>\n",
       "</defs>\n",
       "<path clip-path=\"url(#clip600)\" d=\"\n",
       "M141.853 1486.45 L2352.76 1486.45 L2352.76 47.2441 L141.853 47.2441  Z\n",
       "  \" fill=\"#ffffff\" fill-rule=\"evenodd\" fill-opacity=\"1\"/>\n",
       "<defs>\n",
       "  <clipPath id=\"clip602\">\n",
       "    <rect x=\"141\" y=\"47\" width=\"2212\" height=\"1440\"/>\n",
       "  </clipPath>\n",
       "</defs>\n",
       "<polyline clip-path=\"url(#clip602)\" style=\"stroke:#000000; stroke-width:2; stroke-opacity:0.1; fill:none\" points=\"\n",
       "  183.357,1486.45 183.357,47.2441 \n",
       "  \"/>\n",
       "<polyline clip-path=\"url(#clip602)\" style=\"stroke:#000000; stroke-width:2; stroke-opacity:0.1; fill:none\" points=\"\n",
       "  710.064,1486.45 710.064,47.2441 \n",
       "  \"/>\n",
       "<polyline clip-path=\"url(#clip602)\" style=\"stroke:#000000; stroke-width:2; stroke-opacity:0.1; fill:none\" points=\"\n",
       "  1236.77,1486.45 1236.77,47.2441 \n",
       "  \"/>\n",
       "<polyline clip-path=\"url(#clip602)\" style=\"stroke:#000000; stroke-width:2; stroke-opacity:0.1; fill:none\" points=\"\n",
       "  1763.48,1486.45 1763.48,47.2441 \n",
       "  \"/>\n",
       "<polyline clip-path=\"url(#clip602)\" style=\"stroke:#000000; stroke-width:2; stroke-opacity:0.1; fill:none\" points=\"\n",
       "  2290.18,1486.45 2290.18,47.2441 \n",
       "  \"/>\n",
       "<polyline clip-path=\"url(#clip600)\" style=\"stroke:#000000; stroke-width:4; stroke-opacity:1; fill:none\" points=\"\n",
       "  141.853,1486.45 2352.76,1486.45 \n",
       "  \"/>\n",
       "<polyline clip-path=\"url(#clip600)\" style=\"stroke:#000000; stroke-width:4; stroke-opacity:1; fill:none\" points=\"\n",
       "  183.357,1486.45 183.357,1469.18 \n",
       "  \"/>\n",
       "<polyline clip-path=\"url(#clip600)\" style=\"stroke:#000000; stroke-width:4; stroke-opacity:1; fill:none\" points=\"\n",
       "  710.064,1486.45 710.064,1469.18 \n",
       "  \"/>\n",
       "<polyline clip-path=\"url(#clip600)\" style=\"stroke:#000000; stroke-width:4; stroke-opacity:1; fill:none\" points=\"\n",
       "  1236.77,1486.45 1236.77,1469.18 \n",
       "  \"/>\n",
       "<polyline clip-path=\"url(#clip600)\" style=\"stroke:#000000; stroke-width:4; stroke-opacity:1; fill:none\" points=\"\n",
       "  1763.48,1486.45 1763.48,1469.18 \n",
       "  \"/>\n",
       "<polyline clip-path=\"url(#clip600)\" style=\"stroke:#000000; stroke-width:4; stroke-opacity:1; fill:none\" points=\"\n",
       "  2290.18,1486.45 2290.18,1469.18 \n",
       "  \"/>\n",
       "<path clip-path=\"url(#clip600)\" d=\"M 0 0 M183.357 1515.64 Q179.746 1515.64 177.918 1519.2 Q176.112 1522.75 176.112 1529.87 Q176.112 1536.98 177.918 1540.55 Q179.746 1544.09 183.357 1544.09 Q186.992 1544.09 188.797 1540.55 Q190.626 1536.98 190.626 1529.87 Q190.626 1522.75 188.797 1519.2 Q186.992 1515.64 183.357 1515.64 M183.357 1511.93 Q189.168 1511.93 192.223 1516.54 Q195.302 1521.12 195.302 1529.87 Q195.302 1538.6 192.223 1543.21 Q189.168 1547.79 183.357 1547.79 Q177.547 1547.79 174.469 1543.21 Q171.413 1538.6 171.413 1529.87 Q171.413 1521.12 174.469 1516.54 Q177.547 1511.93 183.357 1511.93 Z\" fill=\"#000000\" fill-rule=\"evenodd\" fill-opacity=\"1\" /><path clip-path=\"url(#clip600)\" d=\"M 0 0 M689.335 1543.18 L705.654 1543.18 L705.654 1547.12 L683.71 1547.12 L683.71 1543.18 Q686.372 1540.43 690.955 1535.8 Q695.562 1531.15 696.742 1529.81 Q698.988 1527.28 699.867 1525.55 Q700.77 1523.79 700.77 1522.1 Q700.77 1519.34 698.825 1517.61 Q696.904 1515.87 693.802 1515.87 Q691.603 1515.87 689.15 1516.63 Q686.719 1517.4 683.941 1518.95 L683.941 1514.23 Q686.765 1513.09 689.219 1512.51 Q691.673 1511.93 693.71 1511.93 Q699.08 1511.93 702.275 1514.62 Q705.469 1517.31 705.469 1521.8 Q705.469 1523.93 704.659 1525.85 Q703.872 1527.74 701.765 1530.34 Q701.187 1531.01 698.085 1534.23 Q694.983 1537.42 689.335 1543.18 Z\" fill=\"#000000\" fill-rule=\"evenodd\" fill-opacity=\"1\" /><path clip-path=\"url(#clip600)\" d=\"M 0 0 M715.515 1512.56 L733.872 1512.56 L733.872 1516.5 L719.798 1516.5 L719.798 1524.97 Q720.816 1524.62 721.835 1524.46 Q722.853 1524.27 723.872 1524.27 Q729.659 1524.27 733.038 1527.44 Q736.418 1530.62 736.418 1536.03 Q736.418 1541.61 732.946 1544.71 Q729.473 1547.79 723.154 1547.79 Q720.978 1547.79 718.71 1547.42 Q716.464 1547.05 714.057 1546.31 L714.057 1541.61 Q716.14 1542.74 718.362 1543.3 Q720.585 1543.86 723.061 1543.86 Q727.066 1543.86 729.404 1541.75 Q731.742 1539.64 731.742 1536.03 Q731.742 1532.42 729.404 1530.31 Q727.066 1528.21 723.061 1528.21 Q721.186 1528.21 719.311 1528.62 Q717.46 1529.04 715.515 1529.92 L715.515 1512.56 Z\" fill=\"#000000\" fill-rule=\"evenodd\" fill-opacity=\"1\" /><path clip-path=\"url(#clip600)\" d=\"M 0 0 M1211.47 1512.56 L1229.83 1512.56 L1229.83 1516.5 L1215.75 1516.5 L1215.75 1524.97 Q1216.77 1524.62 1217.79 1524.46 Q1218.81 1524.27 1219.83 1524.27 Q1225.61 1524.27 1228.99 1527.44 Q1232.37 1530.62 1232.37 1536.03 Q1232.37 1541.61 1228.9 1544.71 Q1225.43 1547.79 1219.11 1547.79 Q1216.93 1547.79 1214.66 1547.42 Q1212.42 1547.05 1210.01 1546.31 L1210.01 1541.61 Q1212.09 1542.74 1214.32 1543.3 Q1216.54 1543.86 1219.02 1543.86 Q1223.02 1543.86 1225.36 1541.75 Q1227.7 1539.64 1227.7 1536.03 Q1227.7 1532.42 1225.36 1530.31 Q1223.02 1528.21 1219.02 1528.21 Q1217.14 1528.21 1215.27 1528.62 Q1213.41 1529.04 1211.47 1529.92 L1211.47 1512.56 Z\" fill=\"#000000\" fill-rule=\"evenodd\" fill-opacity=\"1\" /><path clip-path=\"url(#clip600)\" d=\"M 0 0 M1251.59 1515.64 Q1247.97 1515.64 1246.15 1519.2 Q1244.34 1522.75 1244.34 1529.87 Q1244.34 1536.98 1246.15 1540.55 Q1247.97 1544.09 1251.59 1544.09 Q1255.22 1544.09 1257.02 1540.55 Q1258.85 1536.98 1258.85 1529.87 Q1258.85 1522.75 1257.02 1519.2 Q1255.22 1515.64 1251.59 1515.64 M1251.59 1511.93 Q1257.4 1511.93 1260.45 1516.54 Q1263.53 1521.12 1263.53 1529.87 Q1263.53 1538.6 1260.45 1543.21 Q1257.4 1547.79 1251.59 1547.79 Q1245.77 1547.79 1242.7 1543.21 Q1239.64 1538.6 1239.64 1529.87 Q1239.64 1521.12 1242.7 1516.54 Q1245.77 1511.93 1251.59 1511.93 Z\" fill=\"#000000\" fill-rule=\"evenodd\" fill-opacity=\"1\" /><path clip-path=\"url(#clip600)\" d=\"M 0 0 M1737.33 1512.56 L1759.55 1512.56 L1759.55 1514.55 L1747.01 1547.12 L1742.12 1547.12 L1753.93 1516.5 L1737.33 1516.5 L1737.33 1512.56 Z\" fill=\"#000000\" fill-rule=\"evenodd\" fill-opacity=\"1\" /><path clip-path=\"url(#clip600)\" d=\"M 0 0 M1768.72 1512.56 L1787.08 1512.56 L1787.08 1516.5 L1773 1516.5 L1773 1524.97 Q1774.02 1524.62 1775.04 1524.46 Q1776.06 1524.27 1777.08 1524.27 Q1782.86 1524.27 1786.24 1527.44 Q1789.62 1530.62 1789.62 1536.03 Q1789.62 1541.61 1786.15 1544.71 Q1782.68 1547.79 1776.36 1547.79 Q1774.18 1547.79 1771.91 1547.42 Q1769.67 1547.05 1767.26 1546.31 L1767.26 1541.61 Q1769.34 1542.74 1771.57 1543.3 Q1773.79 1543.86 1776.27 1543.86 Q1780.27 1543.86 1782.61 1541.75 Q1784.95 1539.64 1784.95 1536.03 Q1784.95 1532.42 1782.61 1530.31 Q1780.27 1528.21 1776.27 1528.21 Q1774.39 1528.21 1772.52 1528.62 Q1770.66 1529.04 1768.72 1529.92 L1768.72 1512.56 Z\" fill=\"#000000\" fill-rule=\"evenodd\" fill-opacity=\"1\" /><path clip-path=\"url(#clip600)\" d=\"M 0 0 M2249.79 1543.18 L2257.43 1543.18 L2257.43 1516.82 L2249.12 1518.49 L2249.12 1514.23 L2257.38 1512.56 L2262.06 1512.56 L2262.06 1543.18 L2269.7 1543.18 L2269.7 1547.12 L2249.79 1547.12 L2249.79 1543.18 Z\" fill=\"#000000\" fill-rule=\"evenodd\" fill-opacity=\"1\" /><path clip-path=\"url(#clip600)\" d=\"M 0 0 M2289.14 1515.64 Q2285.53 1515.64 2283.7 1519.2 Q2281.9 1522.75 2281.9 1529.87 Q2281.9 1536.98 2283.7 1540.55 Q2285.53 1544.09 2289.14 1544.09 Q2292.78 1544.09 2294.58 1540.55 Q2296.41 1536.98 2296.41 1529.87 Q2296.41 1522.75 2294.58 1519.2 Q2292.78 1515.64 2289.14 1515.64 M2289.14 1511.93 Q2294.95 1511.93 2298.01 1516.54 Q2301.09 1521.12 2301.09 1529.87 Q2301.09 1538.6 2298.01 1543.21 Q2294.95 1547.79 2289.14 1547.79 Q2283.33 1547.79 2280.25 1543.21 Q2277.2 1538.6 2277.2 1529.87 Q2277.2 1521.12 2280.25 1516.54 Q2283.33 1511.93 2289.14 1511.93 Z\" fill=\"#000000\" fill-rule=\"evenodd\" fill-opacity=\"1\" /><path clip-path=\"url(#clip600)\" d=\"M 0 0 M2319.3 1515.64 Q2315.69 1515.64 2313.86 1519.2 Q2312.06 1522.75 2312.06 1529.87 Q2312.06 1536.98 2313.86 1540.55 Q2315.69 1544.09 2319.3 1544.09 Q2322.94 1544.09 2324.74 1540.55 Q2326.57 1536.98 2326.57 1529.87 Q2326.57 1522.75 2324.74 1519.2 Q2322.94 1515.64 2319.3 1515.64 M2319.3 1511.93 Q2325.11 1511.93 2328.17 1516.54 Q2331.25 1521.12 2331.25 1529.87 Q2331.25 1538.6 2328.17 1543.21 Q2325.11 1547.79 2319.3 1547.79 Q2313.49 1547.79 2310.41 1543.21 Q2307.36 1538.6 2307.36 1529.87 Q2307.36 1521.12 2310.41 1516.54 Q2313.49 1511.93 2319.3 1511.93 Z\" fill=\"#000000\" fill-rule=\"evenodd\" fill-opacity=\"1\" /><polyline clip-path=\"url(#clip602)\" style=\"stroke:#000000; stroke-width:2; stroke-opacity:0.1; fill:none\" points=\"\n",
       "  141.853,1401.92 2352.76,1401.92 \n",
       "  \"/>\n",
       "<polyline clip-path=\"url(#clip602)\" style=\"stroke:#000000; stroke-width:2; stroke-opacity:0.1; fill:none\" points=\"\n",
       "  141.853,1182.93 2352.76,1182.93 \n",
       "  \"/>\n",
       "<polyline clip-path=\"url(#clip602)\" style=\"stroke:#000000; stroke-width:2; stroke-opacity:0.1; fill:none\" points=\"\n",
       "  141.853,963.937 2352.76,963.937 \n",
       "  \"/>\n",
       "<polyline clip-path=\"url(#clip602)\" style=\"stroke:#000000; stroke-width:2; stroke-opacity:0.1; fill:none\" points=\"\n",
       "  141.853,744.947 2352.76,744.947 \n",
       "  \"/>\n",
       "<polyline clip-path=\"url(#clip602)\" style=\"stroke:#000000; stroke-width:2; stroke-opacity:0.1; fill:none\" points=\"\n",
       "  141.853,525.957 2352.76,525.957 \n",
       "  \"/>\n",
       "<polyline clip-path=\"url(#clip602)\" style=\"stroke:#000000; stroke-width:2; stroke-opacity:0.1; fill:none\" points=\"\n",
       "  141.853,306.967 2352.76,306.967 \n",
       "  \"/>\n",
       "<polyline clip-path=\"url(#clip602)\" style=\"stroke:#000000; stroke-width:2; stroke-opacity:0.1; fill:none\" points=\"\n",
       "  141.853,87.9763 2352.76,87.9763 \n",
       "  \"/>\n",
       "<polyline clip-path=\"url(#clip600)\" style=\"stroke:#000000; stroke-width:4; stroke-opacity:1; fill:none\" points=\"\n",
       "  141.853,1486.45 141.853,47.2441 \n",
       "  \"/>\n",
       "<polyline clip-path=\"url(#clip600)\" style=\"stroke:#000000; stroke-width:4; stroke-opacity:1; fill:none\" points=\"\n",
       "  141.853,1401.92 168.384,1401.92 \n",
       "  \"/>\n",
       "<polyline clip-path=\"url(#clip600)\" style=\"stroke:#000000; stroke-width:4; stroke-opacity:1; fill:none\" points=\"\n",
       "  141.853,1182.93 168.384,1182.93 \n",
       "  \"/>\n",
       "<polyline clip-path=\"url(#clip600)\" style=\"stroke:#000000; stroke-width:4; stroke-opacity:1; fill:none\" points=\"\n",
       "  141.853,963.937 168.384,963.937 \n",
       "  \"/>\n",
       "<polyline clip-path=\"url(#clip600)\" style=\"stroke:#000000; stroke-width:4; stroke-opacity:1; fill:none\" points=\"\n",
       "  141.853,744.947 168.384,744.947 \n",
       "  \"/>\n",
       "<polyline clip-path=\"url(#clip600)\" style=\"stroke:#000000; stroke-width:4; stroke-opacity:1; fill:none\" points=\"\n",
       "  141.853,525.957 168.384,525.957 \n",
       "  \"/>\n",
       "<polyline clip-path=\"url(#clip600)\" style=\"stroke:#000000; stroke-width:4; stroke-opacity:1; fill:none\" points=\"\n",
       "  141.853,306.967 168.384,306.967 \n",
       "  \"/>\n",
       "<polyline clip-path=\"url(#clip600)\" style=\"stroke:#000000; stroke-width:4; stroke-opacity:1; fill:none\" points=\"\n",
       "  141.853,87.9763 168.384,87.9763 \n",
       "  \"/>\n",
       "<path clip-path=\"url(#clip600)\" d=\"M 0 0 M57.7745 1415.26 L74.0939 1415.26 L74.0939 1419.2 L52.1495 1419.2 L52.1495 1415.26 Q54.8115 1412.51 59.3949 1407.88 Q64.0013 1403.23 65.1819 1401.88 Q67.4272 1399.36 68.3068 1397.62 Q69.2096 1395.86 69.2096 1394.17 Q69.2096 1391.42 67.2652 1389.68 Q65.3439 1387.95 62.2421 1387.95 Q60.043 1387.95 57.5893 1388.71 Q55.1588 1389.48 52.381 1391.03 L52.381 1386.3 Q55.2051 1385.17 57.6588 1384.59 Q60.1124 1384.01 62.1495 1384.01 Q67.5198 1384.01 70.7142 1386.7 Q73.9087 1389.38 73.9087 1393.87 Q73.9087 1396 73.0985 1397.92 Q72.3115 1399.82 70.205 1402.42 Q69.6263 1403.09 66.5245 1406.3 Q63.4226 1409.5 57.7745 1415.26 Z\" fill=\"#000000\" fill-rule=\"evenodd\" fill-opacity=\"1\" /><path clip-path=\"url(#clip600)\" d=\"M 0 0 M93.9086 1387.72 Q90.2975 1387.72 88.4688 1391.28 Q86.6632 1394.82 86.6632 1401.95 Q86.6632 1409.06 88.4688 1412.62 Q90.2975 1416.17 93.9086 1416.17 Q97.5428 1416.17 99.3483 1412.62 Q101.177 1409.06 101.177 1401.95 Q101.177 1394.82 99.3483 1391.28 Q97.5428 1387.72 93.9086 1387.72 M93.9086 1384.01 Q99.7187 1384.01 102.774 1388.62 Q105.853 1393.2 105.853 1401.95 Q105.853 1410.68 102.774 1415.29 Q99.7187 1419.87 93.9086 1419.87 Q88.0984 1419.87 85.0197 1415.29 Q81.9642 1410.68 81.9642 1401.95 Q81.9642 1393.2 85.0197 1388.62 Q88.0984 1384.01 93.9086 1384.01 Z\" fill=\"#000000\" fill-rule=\"evenodd\" fill-opacity=\"1\" /><path clip-path=\"url(#clip600)\" d=\"M 0 0 M67.9133 1181.57 Q71.2698 1182.29 73.1448 1184.56 Q75.0429 1186.83 75.0429 1190.16 Q75.0429 1195.28 71.5244 1198.08 Q68.0059 1200.88 61.5245 1200.88 Q59.3486 1200.88 57.0338 1200.44 Q54.7421 1200.02 52.2884 1199.17 L52.2884 1194.65 Q54.2328 1195.79 56.5477 1196.36 Q58.8625 1196.94 61.3856 1196.94 Q65.7837 1196.94 68.0754 1195.21 Q70.3902 1193.47 70.3902 1190.16 Q70.3902 1187.11 68.2374 1185.39 Q66.1078 1183.66 62.2884 1183.66 L58.2606 1183.66 L58.2606 1179.81 L62.4735 1179.81 Q65.9226 1179.81 67.7513 1178.45 Q69.58 1177.06 69.58 1174.47 Q69.58 1171.8 67.6819 1170.39 Q65.8069 1168.96 62.2884 1168.96 Q60.3671 1168.96 58.168 1169.37 Q55.969 1169.79 53.3301 1170.67 L53.3301 1166.5 Q55.9921 1165.76 58.3069 1165.39 Q60.6449 1165.02 62.705 1165.02 Q68.0291 1165.02 71.1309 1167.45 Q74.2327 1169.86 74.2327 1173.98 Q74.2327 1176.85 72.5892 1178.84 Q70.9457 1180.81 67.9133 1181.57 Z\" fill=\"#000000\" fill-rule=\"evenodd\" fill-opacity=\"1\" /><path clip-path=\"url(#clip600)\" d=\"M 0 0 M93.9086 1168.73 Q90.2975 1168.73 88.4688 1172.29 Q86.6632 1175.83 86.6632 1182.96 Q86.6632 1190.07 88.4688 1193.63 Q90.2975 1197.18 93.9086 1197.18 Q97.5428 1197.18 99.3483 1193.63 Q101.177 1190.07 101.177 1182.96 Q101.177 1175.83 99.3483 1172.29 Q97.5428 1168.73 93.9086 1168.73 M93.9086 1165.02 Q99.7187 1165.02 102.774 1169.63 Q105.853 1174.21 105.853 1182.96 Q105.853 1191.69 102.774 1196.3 Q99.7187 1200.88 93.9086 1200.88 Q88.0984 1200.88 85.0197 1196.3 Q81.9642 1191.69 81.9642 1182.96 Q81.9642 1174.21 85.0197 1169.63 Q88.0984 1165.02 93.9086 1165.02 Z\" fill=\"#000000\" fill-rule=\"evenodd\" fill-opacity=\"1\" /><path clip-path=\"url(#clip600)\" d=\"M 0 0 M66.5939 950.731 L54.7884 969.18 L66.5939 969.18 L66.5939 950.731 M65.367 946.657 L71.2466 946.657 L71.2466 969.18 L76.1772 969.18 L76.1772 973.069 L71.2466 973.069 L71.2466 981.217 L66.5939 981.217 L66.5939 973.069 L50.9921 973.069 L50.9921 968.555 L65.367 946.657 Z\" fill=\"#000000\" fill-rule=\"evenodd\" fill-opacity=\"1\" /><path clip-path=\"url(#clip600)\" d=\"M 0 0 M93.9086 949.736 Q90.2975 949.736 88.4688 953.301 Q86.6632 956.842 86.6632 963.972 Q86.6632 971.078 88.4688 974.643 Q90.2975 978.185 93.9086 978.185 Q97.5428 978.185 99.3483 974.643 Q101.177 971.078 101.177 963.972 Q101.177 956.842 99.3483 953.301 Q97.5428 949.736 93.9086 949.736 M93.9086 946.032 Q99.7187 946.032 102.774 950.639 Q105.853 955.222 105.853 963.972 Q105.853 972.699 102.774 977.305 Q99.7187 981.888 93.9086 981.888 Q88.0984 981.888 85.0197 977.305 Q81.9642 972.699 81.9642 963.972 Q81.9642 955.222 85.0197 950.639 Q88.0984 946.032 93.9086 946.032 Z\" fill=\"#000000\" fill-rule=\"evenodd\" fill-opacity=\"1\" /><path clip-path=\"url(#clip600)\" d=\"M 0 0 M53.793 727.667 L72.1494 727.667 L72.1494 731.602 L58.0754 731.602 L58.0754 740.074 Q59.0939 739.727 60.1124 739.565 Q61.131 739.38 62.1495 739.38 Q67.9365 739.38 71.3161 742.551 Q74.6957 745.722 74.6957 751.139 Q74.6957 756.718 71.2235 759.82 Q67.7513 762.898 61.4319 762.898 Q59.256 762.898 56.9875 762.528 Q54.7421 762.158 52.3347 761.417 L52.3347 756.718 Q54.418 757.852 56.6402 758.408 Q58.8625 758.963 61.3393 758.963 Q65.3439 758.963 67.6819 756.857 Q70.0198 754.75 70.0198 751.139 Q70.0198 747.528 67.6819 745.421 Q65.3439 743.315 61.3393 743.315 Q59.4643 743.315 57.5893 743.732 Q55.7375 744.148 53.793 745.028 L53.793 727.667 Z\" fill=\"#000000\" fill-rule=\"evenodd\" fill-opacity=\"1\" /><path clip-path=\"url(#clip600)\" d=\"M 0 0 M93.9086 730.746 Q90.2975 730.746 88.4688 734.31 Q86.6632 737.852 86.6632 744.982 Q86.6632 752.088 88.4688 755.653 Q90.2975 759.195 93.9086 759.195 Q97.5428 759.195 99.3483 755.653 Q101.177 752.088 101.177 744.982 Q101.177 737.852 99.3483 734.31 Q97.5428 730.746 93.9086 730.746 M93.9086 727.042 Q99.7187 727.042 102.774 731.648 Q105.853 736.232 105.853 744.982 Q105.853 753.708 102.774 758.315 Q99.7187 762.898 93.9086 762.898 Q88.0984 762.898 85.0197 758.315 Q81.9642 753.708 81.9642 744.982 Q81.9642 736.232 85.0197 731.648 Q88.0984 727.042 93.9086 727.042 Z\" fill=\"#000000\" fill-rule=\"evenodd\" fill-opacity=\"1\" /><path clip-path=\"url(#clip600)\" d=\"M 0 0 M64.3254 524.093 Q61.1773 524.093 59.3254 526.246 Q57.4967 528.399 57.4967 532.149 Q57.4967 535.876 59.3254 538.052 Q61.1773 540.204 64.3254 540.204 Q67.4735 540.204 69.3022 538.052 Q71.1541 535.876 71.1541 532.149 Q71.1541 528.399 69.3022 526.246 Q67.4735 524.093 64.3254 524.093 M73.6077 509.441 L73.6077 513.7 Q71.8485 512.867 70.0429 512.427 Q68.2606 511.987 66.5013 511.987 Q61.8717 511.987 59.418 515.112 Q56.9875 518.237 56.6402 524.556 Q58.006 522.542 60.0662 521.478 Q62.1263 520.39 64.6032 520.39 Q69.8115 520.39 72.8207 523.561 Q75.8531 526.709 75.8531 532.149 Q75.8531 537.473 72.705 540.69 Q69.5568 543.908 64.3254 543.908 Q58.33 543.908 55.1588 539.325 Q51.9875 534.718 51.9875 525.991 Q51.9875 517.797 55.8764 512.936 Q59.7652 508.052 66.3161 508.052 Q68.0754 508.052 69.8578 508.399 Q71.6633 508.746 73.6077 509.441 Z\" fill=\"#000000\" fill-rule=\"evenodd\" fill-opacity=\"1\" /><path clip-path=\"url(#clip600)\" d=\"M 0 0 M93.9086 511.755 Q90.2975 511.755 88.4688 515.32 Q86.6632 518.862 86.6632 525.991 Q86.6632 533.098 88.4688 536.663 Q90.2975 540.204 93.9086 540.204 Q97.5428 540.204 99.3483 536.663 Q101.177 533.098 101.177 525.991 Q101.177 518.862 99.3483 515.32 Q97.5428 511.755 93.9086 511.755 M93.9086 508.052 Q99.7187 508.052 102.774 512.658 Q105.853 517.242 105.853 525.991 Q105.853 534.718 102.774 539.325 Q99.7187 543.908 93.9086 543.908 Q88.0984 543.908 85.0197 539.325 Q81.9642 534.718 81.9642 525.991 Q81.9642 517.242 85.0197 512.658 Q88.0984 508.052 93.9086 508.052 Z\" fill=\"#000000\" fill-rule=\"evenodd\" fill-opacity=\"1\" /><path clip-path=\"url(#clip600)\" d=\"M 0 0 M52.5662 289.687 L74.7883 289.687 L74.7883 291.677 L62.2421 324.247 L57.3578 324.247 L69.1633 293.622 L52.5662 293.622 L52.5662 289.687 Z\" fill=\"#000000\" fill-rule=\"evenodd\" fill-opacity=\"1\" /><path clip-path=\"url(#clip600)\" d=\"M 0 0 M93.9086 292.765 Q90.2975 292.765 88.4688 296.33 Q86.6632 299.872 86.6632 307.001 Q86.6632 314.108 88.4688 317.672 Q90.2975 321.214 93.9086 321.214 Q97.5428 321.214 99.3483 317.672 Q101.177 314.108 101.177 307.001 Q101.177 299.872 99.3483 296.33 Q97.5428 292.765 93.9086 292.765 M93.9086 289.062 Q99.7187 289.062 102.774 293.668 Q105.853 298.251 105.853 307.001 Q105.853 315.728 102.774 320.334 Q99.7187 324.918 93.9086 324.918 Q88.0984 324.918 85.0197 320.334 Q81.9642 315.728 81.9642 307.001 Q81.9642 298.251 85.0197 293.668 Q88.0984 289.062 93.9086 289.062 Z\" fill=\"#000000\" fill-rule=\"evenodd\" fill-opacity=\"1\" /><path clip-path=\"url(#clip600)\" d=\"M 0 0 M63.7467 88.8443 Q60.4134 88.8443 58.4921 90.6267 Q56.5939 92.4091 56.5939 95.5341 Q56.5939 98.6591 58.4921 100.441 Q60.4134 102.224 63.7467 102.224 Q67.08 102.224 69.0013 100.441 Q70.9226 98.6359 70.9226 95.5341 Q70.9226 92.4091 69.0013 90.6267 Q67.1032 88.8443 63.7467 88.8443 M59.0708 86.8536 Q56.0615 86.1129 54.3717 84.0527 Q52.7051 81.9925 52.7051 79.0296 Q52.7051 74.8861 55.6449 72.4787 Q58.6078 70.0713 63.7467 70.0713 Q68.9087 70.0713 71.8485 72.4787 Q74.7883 74.8861 74.7883 79.0296 Q74.7883 81.9925 73.0985 84.0527 Q71.4318 86.1129 68.4457 86.8536 Q71.8253 87.6406 73.7003 89.9323 Q75.5985 92.2239 75.5985 95.5341 Q75.5985 100.557 72.5198 103.242 Q69.4642 105.928 63.7467 105.928 Q58.0291 105.928 54.9504 103.242 Q51.8949 100.557 51.8949 95.5341 Q51.8949 92.2239 53.793 89.9323 Q55.6912 87.6406 59.0708 86.8536 M57.3578 79.4694 Q57.3578 82.1545 59.0245 83.6592 Q60.7143 85.1638 63.7467 85.1638 Q66.7559 85.1638 68.4457 83.6592 Q70.1587 82.1545 70.1587 79.4694 Q70.1587 76.7842 68.4457 75.2796 Q66.7559 73.775 63.7467 73.775 Q60.7143 73.775 59.0245 75.2796 Q57.3578 76.7842 57.3578 79.4694 Z\" fill=\"#000000\" fill-rule=\"evenodd\" fill-opacity=\"1\" /><path clip-path=\"url(#clip600)\" d=\"M 0 0 M93.9086 73.775 Q90.2975 73.775 88.4688 77.3398 Q86.6632 80.8814 86.6632 88.011 Q86.6632 95.1174 88.4688 98.6822 Q90.2975 102.224 93.9086 102.224 Q97.5428 102.224 99.3483 98.6822 Q101.177 95.1174 101.177 88.011 Q101.177 80.8814 99.3483 77.3398 Q97.5428 73.775 93.9086 73.775 M93.9086 70.0713 Q99.7187 70.0713 102.774 74.6777 Q105.853 79.261 105.853 88.011 Q105.853 96.7378 102.774 101.344 Q99.7187 105.928 93.9086 105.928 Q88.0984 105.928 85.0197 101.344 Q81.9642 96.7378 81.9642 88.011 Q81.9642 79.261 85.0197 74.6777 Q88.0984 70.0713 93.9086 70.0713 Z\" fill=\"#000000\" fill-rule=\"evenodd\" fill-opacity=\"1\" /><polyline clip-path=\"url(#clip602)\" style=\"stroke:#009af9; stroke-width:4; stroke-opacity:1; fill:none\" points=\"\n",
       "  204.426,635.452 225.494,175.572 246.562,613.553 267.63,306.967 288.699,635.452 309.767,985.836 330.835,1095.33 351.903,460.26 372.972,219.37 394.04,1007.74 \n",
       "  415.108,613.553 436.177,1139.13 457.245,482.159 478.313,1095.33 499.381,1095.33 520.45,394.563 541.518,1117.23 562.586,832.543 583.654,591.654 604.723,1095.33 \n",
       "  625.791,1117.23 646.859,788.745 667.927,328.866 688.996,679.25 710.064,766.846 731.132,744.947 752.2,1095.33 773.269,744.947 794.337,197.471 815.405,482.159 \n",
       "  836.473,1248.62 857.542,1380.02 878.61,438.361 899.678,175.572 920.746,832.543 941.815,1445.72 962.883,394.563 983.951,854.442 1005.02,942.038 1026.09,657.351 \n",
       "  1047.16,394.563 1068.22,635.452 1089.29,1095.33 1110.36,1139.13 1131.43,525.957 1152.5,876.341 1173.57,1095.33 1194.63,635.452 1215.7,460.26 1236.77,394.563 \n",
       "  1257.84,1445.72 1278.91,854.442 1299.98,679.25 1321.04,504.058 1342.11,985.836 1363.18,613.553 1384.25,131.774 1405.32,1204.83 1426.38,328.866 1447.45,744.947 \n",
       "  1468.52,898.24 1489.59,394.563 1510.66,766.846 1531.73,197.471 1552.79,1029.63 1573.86,569.755 1594.93,832.543 1616,241.269 1637.07,1095.33 1658.14,788.745 \n",
       "  1679.2,394.563 1700.27,482.159 1721.34,810.644 1742.41,1401.92 1763.48,876.341 1784.54,1401.92 1805.61,328.866 1826.68,1073.43 1847.75,657.351 1868.82,285.067 \n",
       "  1889.89,219.37 1910.95,723.048 1932.02,109.875 1953.09,635.452 1974.16,744.947 1995.23,635.452 2016.3,416.462 2037.36,1314.32 2058.43,525.957 2079.5,328.866 \n",
       "  2100.57,1117.23 2121.64,942.038 2142.71,854.442 2163.77,87.9763 2184.84,766.846 2205.91,350.765 2226.98,569.755 2248.05,109.875 2269.11,1336.22 2290.18,219.37 \n",
       "  \n",
       "  \"/>\n",
       "<path clip-path=\"url(#clip600)\" d=\"\n",
       "M1980.97 216.178 L2279.06 216.178 L2279.06 95.2176 L1980.97 95.2176  Z\n",
       "  \" fill=\"#ffffff\" fill-rule=\"evenodd\" fill-opacity=\"1\"/>\n",
       "<polyline clip-path=\"url(#clip600)\" style=\"stroke:#000000; stroke-width:4; stroke-opacity:1; fill:none\" points=\"\n",
       "  1980.97,216.178 2279.06,216.178 2279.06,95.2176 1980.97,95.2176 1980.97,216.178 \n",
       "  \"/>\n",
       "<polyline clip-path=\"url(#clip600)\" style=\"stroke:#009af9; stroke-width:4; stroke-opacity:1; fill:none\" points=\"\n",
       "  2005.54,155.698 2152.93,155.698 \n",
       "  \"/>\n",
       "<path clip-path=\"url(#clip600)\" d=\"M 0 0 M2191.34 175.385 Q2189.53 180.015 2187.82 181.427 Q2186.11 182.839 2183.24 182.839 L2179.84 182.839 L2179.84 179.274 L2182.34 179.274 Q2184.09 179.274 2185.07 178.44 Q2186.04 177.607 2187.22 174.505 L2187.98 172.561 L2177.5 147.052 L2182.01 147.052 L2190.11 167.329 L2198.22 147.052 L2202.73 147.052 L2191.34 175.385 Z\" fill=\"#000000\" fill-rule=\"evenodd\" fill-opacity=\"1\" /><path clip-path=\"url(#clip600)\" d=\"M 0 0 M2210.02 169.042 L2217.66 169.042 L2217.66 142.677 L2209.35 144.343 L2209.35 140.084 L2217.61 138.418 L2222.29 138.418 L2222.29 169.042 L2229.93 169.042 L2229.93 172.978 L2210.02 172.978 L2210.02 169.042 Z\" fill=\"#000000\" fill-rule=\"evenodd\" fill-opacity=\"1\" /></svg>\n"
      ]
     },
     "execution_count": 57,
     "metadata": {},
     "output_type": "execute_result"
    }
   ],
   "source": [
    "using Plots\n",
    "plot(data[:,:Age])"
   ]
  },
  {
   "cell_type": "code",
   "execution_count": 58,
   "id": "ad076167-e0fa-4b4b-a59c-c60c27deb2cf",
   "metadata": {},
   "outputs": [
    {
     "name": "stdout",
     "output_type": "stream",
     "text": [
      "search: \u001b[0m\u001b[1md\u001b[22m\u001b[0m\u001b[1me\u001b[22m\u001b[0m\u001b[1mn\u001b[22m\u001b[0m\u001b[1ms\u001b[22m\u001b[0m\u001b[1mi\u001b[22m\u001b[0m\u001b[1mt\u001b[22m\u001b[0m\u001b[1my\u001b[22m \u001b[0m\u001b[1md\u001b[22m\u001b[0m\u001b[1me\u001b[22m\u001b[0m\u001b[1mn\u001b[22m\u001b[0m\u001b[1ms\u001b[22m\u001b[0m\u001b[1mi\u001b[22m\u001b[0m\u001b[1mt\u001b[22m\u001b[0m\u001b[1my\u001b[22m! \u001b[0m\u001b[1mD\u001b[22mim\u001b[0m\u001b[1me\u001b[22m\u001b[0m\u001b[1mn\u001b[22m\u001b[0m\u001b[1ms\u001b[22m\u001b[0m\u001b[1mi\u001b[22monMisma\u001b[0m\u001b[1mt\u001b[22mch \u001b[0m\u001b[1mD\u001b[22miscr\u001b[0m\u001b[1me\u001b[22mteU\u001b[0m\u001b[1mn\u001b[22mivariateDi\u001b[0m\u001b[1ms\u001b[22mtr\u001b[0m\u001b[1mi\u001b[22mbu\u001b[0m\u001b[1mt\u001b[22mion\n",
      "\n"
     ]
    },
    {
     "data": {
      "text/latex": [
       "\\begin{verbatim}\n",
       "density(x)\n",
       "density!(x)\n",
       "\\end{verbatim}\n",
       "Make a line plot of a kernel density estimate of x.\n",
       "\n",
       "\\section{Arguments}\n",
       "\\begin{itemize}\n",
       "\\item \\texttt{x}: AbstractVector of samples for probability density estimation\n",
       "\n",
       "\\end{itemize}\n",
       "\\section{Example}\n",
       "\\begin{verbatim}\n",
       "julia> using StatsPlots\n",
       "julia> density(randn(100_000))\n",
       "\\end{verbatim}\n"
      ],
      "text/markdown": [
       "```\n",
       "density(x)\n",
       "density!(x)\n",
       "```\n",
       "\n",
       "Make a line plot of a kernel density estimate of x.\n",
       "\n",
       "# Arguments\n",
       "\n",
       "  * `x`: AbstractVector of samples for probability density estimation\n",
       "\n",
       "# Example\n",
       "\n",
       "```julia-repl\n",
       "julia> using StatsPlots\n",
       "julia> density(randn(100_000))\n",
       "```\n"
      ],
      "text/plain": [
       "\u001b[36m  density(x)\u001b[39m\n",
       "\u001b[36m  density!(x)\u001b[39m\n",
       "\n",
       "  Make a line plot of a kernel density estimate of x.\n",
       "\n",
       "\u001b[1m  Arguments\u001b[22m\n",
       "\u001b[1m  ≡≡≡≡≡≡≡≡≡≡≡\u001b[22m\n",
       "\n",
       "    •  \u001b[36mx\u001b[39m: AbstractVector of samples for probability density estimation\n",
       "\n",
       "\u001b[1m  Example\u001b[22m\n",
       "\u001b[1m  ≡≡≡≡≡≡≡≡≡\u001b[22m\n",
       "\n",
       "\u001b[36m  julia> using StatsPlots\u001b[39m\n",
       "\u001b[36m  julia> density(randn(100_000))\u001b[39m"
      ]
     },
     "execution_count": 58,
     "metadata": {},
     "output_type": "execute_result"
    }
   ],
   "source": [
    "?density"
   ]
  },
  {
   "cell_type": "code",
   "execution_count": 67,
   "id": "a879299c-d75a-495b-b348-ba6d5a42d58e",
   "metadata": {},
   "outputs": [
    {
     "data": {
      "text/plain": [
       "0.008478339887886311"
      ]
     },
     "execution_count": 67,
     "metadata": {},
     "output_type": "execute_result"
    }
   ],
   "source": [
    "mean(randn(100))"
   ]
  },
  {
   "cell_type": "code",
   "execution_count": 68,
   "id": "e62d7429-155a-474e-916e-109fa0265dbf",
   "metadata": {},
   "outputs": [
    {
     "name": "stdout",
     "output_type": "stream",
     "text": [
      "search: \u001b[0m\u001b[1mT\u001b[22m\u001b[0m\u001b[1mD\u001b[22m\u001b[0m\u001b[1mi\u001b[22m\u001b[0m\u001b[1ms\u001b[22m\u001b[0m\u001b[1mt\u001b[22m Mv\u001b[0m\u001b[1mT\u001b[22m\u001b[0m\u001b[1mD\u001b[22m\u001b[0m\u001b[1mi\u001b[22m\u001b[0m\u001b[1ms\u001b[22m\u001b[0m\u001b[1mt\u001b[22m Discre\u001b[0m\u001b[1mt\u001b[22me\u001b[0m\u001b[1mD\u001b[22m\u001b[0m\u001b[1mi\u001b[22m\u001b[0m\u001b[1ms\u001b[22m\u001b[0m\u001b[1mt\u001b[22mribution produc\u001b[0m\u001b[1mt\u001b[22m_\u001b[0m\u001b[1md\u001b[22m\u001b[0m\u001b[1mi\u001b[22m\u001b[0m\u001b[1ms\u001b[22m\u001b[0m\u001b[1mt\u001b[22mribution\n",
      "\n"
     ]
    },
    {
     "data": {
      "text/latex": [
       "\\begin{verbatim}\n",
       "TDist(ν)\n",
       "\\end{verbatim}\n",
       "The \\emph{Students T distribution} with \\texttt{ν} degrees of freedom has probability density function\n",
       "\n",
       "$$f(x; d) = \\frac{1}{\\sqrt{d} B(1/2, d/2)}\n",
       "\\left( 1 + \\frac{x^2}{d} \\right)^{-\\frac{d + 1}{2}}$$\n",
       "\\begin{verbatim}\n",
       "TDist(d)      # t-distribution with d degrees of freedom\n",
       "\n",
       "params(d)     # Get the parameters, i.e. (d,)\n",
       "dof(d)        # Get the degrees of freedom, i.e. d\n",
       "\\end{verbatim}\n",
       "External links\n",
       "\n",
       "\\href{https://en.wikipedia.org/wiki/Student%27s_t-distribution}{Student's T distribution on Wikipedia}\n",
       "\n"
      ],
      "text/markdown": [
       "```\n",
       "TDist(ν)\n",
       "```\n",
       "\n",
       "The *Students T distribution* with `ν` degrees of freedom has probability density function\n",
       "\n",
       "$$\n",
       "f(x; d) = \\frac{1}{\\sqrt{d} B(1/2, d/2)}\n",
       "\\left( 1 + \\frac{x^2}{d} \\right)^{-\\frac{d + 1}{2}}\n",
       "$$\n",
       "\n",
       "```julia\n",
       "TDist(d)      # t-distribution with d degrees of freedom\n",
       "\n",
       "params(d)     # Get the parameters, i.e. (d,)\n",
       "dof(d)        # Get the degrees of freedom, i.e. d\n",
       "```\n",
       "\n",
       "External links\n",
       "\n",
       "[Student's T distribution on Wikipedia](https://en.wikipedia.org/wiki/Student%27s_t-distribution)\n"
      ],
      "text/plain": [
       "\u001b[36m  TDist(ν)\u001b[39m\n",
       "\n",
       "  The \u001b[4mStudents T distribution\u001b[24m with \u001b[36mν\u001b[39m degrees of freedom has probability\n",
       "  density function\n",
       "\n",
       "\u001b[35m  f(x; d) = \\frac{1}{\\sqrt{d} B(1/2, d/2)}\u001b[39m\n",
       "\u001b[35m\\left( 1 + \\frac{x^2}{d} \\right)^{-\\frac{d + 1}{2}}\u001b[39m\n",
       "\n",
       "\u001b[36m  TDist(d)      # t-distribution with d degrees of freedom\u001b[39m\n",
       "\u001b[36m  \u001b[39m\n",
       "\u001b[36m  params(d)     # Get the parameters, i.e. (d,)\u001b[39m\n",
       "\u001b[36m  dof(d)        # Get the degrees of freedom, i.e. d\u001b[39m\n",
       "\n",
       "  External links\n",
       "\n",
       "  Student's T distribution on Wikipedia\n",
       "  (https://en.wikipedia.org/wiki/Student%27s_t-distribution)"
      ]
     },
     "execution_count": 68,
     "metadata": {},
     "output_type": "execute_result"
    }
   ],
   "source": [
    "?TDist"
   ]
  },
  {
   "cell_type": "code",
   "execution_count": 73,
   "id": "9b9c71b4-784d-4a59-b36c-8d711a072703",
   "metadata": {},
   "outputs": [
    {
     "name": "stdout",
     "output_type": "stream",
     "text": [
      "search: \u001b[0m\u001b[1mD\u001b[22m\u001b[0m\u001b[1ma\u001b[22m\u001b[0m\u001b[1mt\u001b[22m\u001b[0m\u001b[1ma\u001b[22m\u001b[0m\u001b[1mF\u001b[22m\u001b[0m\u001b[1mr\u001b[22m\u001b[0m\u001b[1ma\u001b[22m\u001b[0m\u001b[1mm\u001b[22m\u001b[0m\u001b[1me\u001b[22m\u001b[0m\u001b[1ms\u001b[22m \u001b[0m\u001b[1mD\u001b[22m\u001b[0m\u001b[1ma\u001b[22m\u001b[0m\u001b[1mt\u001b[22m\u001b[0m\u001b[1ma\u001b[22m\u001b[0m\u001b[1mF\u001b[22m\u001b[0m\u001b[1mr\u001b[22m\u001b[0m\u001b[1ma\u001b[22m\u001b[0m\u001b[1mm\u001b[22m\u001b[0m\u001b[1me\u001b[22m \u001b[0m\u001b[1mD\u001b[22m\u001b[0m\u001b[1ma\u001b[22m\u001b[0m\u001b[1mt\u001b[22m\u001b[0m\u001b[1ma\u001b[22m\u001b[0m\u001b[1mF\u001b[22m\u001b[0m\u001b[1mr\u001b[22m\u001b[0m\u001b[1ma\u001b[22m\u001b[0m\u001b[1mm\u001b[22m\u001b[0m\u001b[1me\u001b[22mRow Sub\u001b[0m\u001b[1mD\u001b[22m\u001b[0m\u001b[1ma\u001b[22m\u001b[0m\u001b[1mt\u001b[22m\u001b[0m\u001b[1ma\u001b[22m\u001b[0m\u001b[1mF\u001b[22m\u001b[0m\u001b[1mr\u001b[22m\u001b[0m\u001b[1ma\u001b[22m\u001b[0m\u001b[1mm\u001b[22m\u001b[0m\u001b[1me\u001b[22m Groupe\u001b[0m\u001b[1md\u001b[22mD\u001b[0m\u001b[1ma\u001b[22m\u001b[0m\u001b[1mt\u001b[22m\u001b[0m\u001b[1ma\u001b[22m\u001b[0m\u001b[1mF\u001b[22m\u001b[0m\u001b[1mr\u001b[22m\u001b[0m\u001b[1ma\u001b[22m\u001b[0m\u001b[1mm\u001b[22m\u001b[0m\u001b[1me\u001b[22m\n",
      "\n"
     ]
    },
    {
     "data": {
      "text/latex": [
       "No documentation found.\n",
       "\n",
       "No docstring found for module \\texttt{DataFrames}.\n",
       "\n"
      ],
      "text/markdown": [
       "No documentation found.\n",
       "\n",
       "No docstring found for module `DataFrames`.\n"
      ],
      "text/plain": [
       "  No documentation found.\n",
       "\n",
       "  No docstring found for module \u001b[36mDataFrames\u001b[39m."
      ]
     },
     "execution_count": 73,
     "metadata": {},
     "output_type": "execute_result"
    }
   ],
   "source": [
    "?DataFrames"
   ]
  },
  {
   "cell_type": "code",
   "execution_count": 74,
   "id": "9eaef5e6-d586-4a87-a626-456eac5babe4",
   "metadata": {},
   "outputs": [
    {
     "name": "stdout",
     "output_type": "stream",
     "text": [
      "search: \u001b[0m\u001b[1mv\u001b[22m\u001b[0m\u001b[1mi\u001b[22m\u001b[0m\u001b[1me\u001b[22m\u001b[0m\u001b[1mw\u001b[22m @\u001b[0m\u001b[1mv\u001b[22m\u001b[0m\u001b[1mi\u001b[22m\u001b[0m\u001b[1me\u001b[22m\u001b[0m\u001b[1mw\u001b[22m @\u001b[0m\u001b[1mv\u001b[22m\u001b[0m\u001b[1mi\u001b[22m\u001b[0m\u001b[1me\u001b[22m\u001b[0m\u001b[1mw\u001b[22ms Di\u001b[0m\u001b[1mv\u001b[22m\u001b[0m\u001b[1mi\u001b[22md\u001b[0m\u001b[1me\u001b[22mError \u001b[0m\u001b[1mv\u001b[22ml\u001b[0m\u001b[1mi\u001b[22mn\u001b[0m\u001b[1me\u001b[22m! \u001b[0m\u001b[1mv\u001b[22ml\u001b[0m\u001b[1mi\u001b[22mn\u001b[0m\u001b[1me\u001b[22m de\u001b[0m\u001b[1mv\u001b[22m\u001b[0m\u001b[1mi\u001b[22manc\u001b[0m\u001b[1me\u001b[22m \u001b[0m\u001b[1mV\u001b[22mar\u001b[0m\u001b[1mi\u001b[22mat\u001b[0m\u001b[1me\u001b[22mForm \u001b[0m\u001b[1mV\u001b[22monM\u001b[0m\u001b[1mi\u001b[22ms\u001b[0m\u001b[1me\u001b[22ms\n",
      "\n"
     ]
    },
    {
     "data": {
      "text/latex": [
       "\\begin{verbatim}\n",
       "view(A, inds...)\n",
       "\\end{verbatim}\n",
       "Like \\href{@ref}{\\texttt{getindex}}, but returns a lightweight array that lazily references (or is effectively a \\emph{view} into) the parent array \\texttt{A} at the given index or indices \\texttt{inds} instead of eagerly extracting elements or constructing a copied subset. Calling \\href{@ref}{\\texttt{getindex}} or \\href{@ref}{\\texttt{setindex!}} on the returned value (often a \\href{@ref}{\\texttt{SubArray}}) computes the indices to access or modify the parent array on the fly.  The behavior is undefined if the shape of the parent array is changed after \\texttt{view} is called because there is no bound check for the parent array; e.g., it may cause a segmentation fault.\n",
       "\n",
       "Some immutable parent arrays (like ranges) may choose to simply recompute a new array in some circumstances instead of returning a \\texttt{SubArray} if doing so is efficient and provides compatible semantics.\n",
       "\n",
       "\\begin{quote}\n",
       "\\textbf{compat}\n",
       "\n",
       "Julia 1.6\n",
       "\n",
       "In Julia 1.6 or later, \\texttt{view} can be called on an \\texttt{AbstractString}, returning a \\texttt{SubString}.\n",
       "\n",
       "\\end{quote}\n",
       "\\section{Examples}\n",
       "\\begin{verbatim}\n",
       "julia> A = [1 2; 3 4]\n",
       "2×2 Matrix{Int64}:\n",
       " 1  2\n",
       " 3  4\n",
       "\n",
       "julia> b = view(A, :, 1)\n",
       "2-element view(::Matrix{Int64}, :, 1) with eltype Int64:\n",
       " 1\n",
       " 3\n",
       "\n",
       "julia> fill!(b, 0)\n",
       "2-element view(::Matrix{Int64}, :, 1) with eltype Int64:\n",
       " 0\n",
       " 0\n",
       "\n",
       "julia> A # Note A has changed even though we modified b\n",
       "2×2 Matrix{Int64}:\n",
       " 0  2\n",
       " 0  4\n",
       "\n",
       "julia> view(2:5, 2:3) # returns a range as type is immutable\n",
       "3:4\n",
       "\\end{verbatim}\n"
      ],
      "text/markdown": [
       "```\n",
       "view(A, inds...)\n",
       "```\n",
       "\n",
       "Like [`getindex`](@ref), but returns a lightweight array that lazily references (or is effectively a *view* into) the parent array `A` at the given index or indices `inds` instead of eagerly extracting elements or constructing a copied subset. Calling [`getindex`](@ref) or [`setindex!`](@ref) on the returned value (often a [`SubArray`](@ref)) computes the indices to access or modify the parent array on the fly.  The behavior is undefined if the shape of the parent array is changed after `view` is called because there is no bound check for the parent array; e.g., it may cause a segmentation fault.\n",
       "\n",
       "Some immutable parent arrays (like ranges) may choose to simply recompute a new array in some circumstances instead of returning a `SubArray` if doing so is efficient and provides compatible semantics.\n",
       "\n",
       "!!! compat \"Julia 1.6\"\n",
       "    In Julia 1.6 or later, `view` can be called on an `AbstractString`, returning a `SubString`.\n",
       "\n",
       "\n",
       "# Examples\n",
       "\n",
       "```jldoctest\n",
       "julia> A = [1 2; 3 4]\n",
       "2×2 Matrix{Int64}:\n",
       " 1  2\n",
       " 3  4\n",
       "\n",
       "julia> b = view(A, :, 1)\n",
       "2-element view(::Matrix{Int64}, :, 1) with eltype Int64:\n",
       " 1\n",
       " 3\n",
       "\n",
       "julia> fill!(b, 0)\n",
       "2-element view(::Matrix{Int64}, :, 1) with eltype Int64:\n",
       " 0\n",
       " 0\n",
       "\n",
       "julia> A # Note A has changed even though we modified b\n",
       "2×2 Matrix{Int64}:\n",
       " 0  2\n",
       " 0  4\n",
       "\n",
       "julia> view(2:5, 2:3) # returns a range as type is immutable\n",
       "3:4\n",
       "```\n"
      ],
      "text/plain": [
       "\u001b[36m  view(A, inds...)\u001b[39m\n",
       "\n",
       "  Like \u001b[36mgetindex\u001b[39m, but returns a lightweight array that lazily references (or is\n",
       "  effectively a \u001b[4mview\u001b[24m into) the parent array \u001b[36mA\u001b[39m at the given index or indices\n",
       "  \u001b[36minds\u001b[39m instead of eagerly extracting elements or constructing a copied subset.\n",
       "  Calling \u001b[36mgetindex\u001b[39m or \u001b[36msetindex!\u001b[39m on the returned value (often a \u001b[36mSubArray\u001b[39m)\n",
       "  computes the indices to access or modify the parent array on the fly. The\n",
       "  behavior is undefined if the shape of the parent array is changed after \u001b[36mview\u001b[39m\n",
       "  is called because there is no bound check for the parent array; e.g., it may\n",
       "  cause a segmentation fault.\n",
       "\n",
       "  Some immutable parent arrays (like ranges) may choose to simply recompute a\n",
       "  new array in some circumstances instead of returning a \u001b[36mSubArray\u001b[39m if doing so\n",
       "  is efficient and provides compatible semantics.\n",
       "\n",
       "\u001b[39m\u001b[1m  │ \u001b[22m\u001b[39m\u001b[1mJulia 1.6\u001b[22m\n",
       "\u001b[39m\u001b[1m  │\u001b[22m\n",
       "\u001b[39m\u001b[1m  │\u001b[22m  In Julia 1.6 or later, \u001b[36mview\u001b[39m can be called on an \u001b[36mAbstractString\u001b[39m,\n",
       "\u001b[39m\u001b[1m  │\u001b[22m  returning a \u001b[36mSubString\u001b[39m.\n",
       "\n",
       "\u001b[1m  Examples\u001b[22m\n",
       "\u001b[1m  ≡≡≡≡≡≡≡≡≡≡\u001b[22m\n",
       "\n",
       "\u001b[36m  julia> A = [1 2; 3 4]\u001b[39m\n",
       "\u001b[36m  2×2 Matrix{Int64}:\u001b[39m\n",
       "\u001b[36m   1  2\u001b[39m\n",
       "\u001b[36m   3  4\u001b[39m\n",
       "\u001b[36m  \u001b[39m\n",
       "\u001b[36m  julia> b = view(A, :, 1)\u001b[39m\n",
       "\u001b[36m  2-element view(::Matrix{Int64}, :, 1) with eltype Int64:\u001b[39m\n",
       "\u001b[36m   1\u001b[39m\n",
       "\u001b[36m   3\u001b[39m\n",
       "\u001b[36m  \u001b[39m\n",
       "\u001b[36m  julia> fill!(b, 0)\u001b[39m\n",
       "\u001b[36m  2-element view(::Matrix{Int64}, :, 1) with eltype Int64:\u001b[39m\n",
       "\u001b[36m   0\u001b[39m\n",
       "\u001b[36m   0\u001b[39m\n",
       "\u001b[36m  \u001b[39m\n",
       "\u001b[36m  julia> A # Note A has changed even though we modified b\u001b[39m\n",
       "\u001b[36m  2×2 Matrix{Int64}:\u001b[39m\n",
       "\u001b[36m   0  2\u001b[39m\n",
       "\u001b[36m   0  4\u001b[39m\n",
       "\u001b[36m  \u001b[39m\n",
       "\u001b[36m  julia> view(2:5, 2:3) # returns a range as type is immutable\u001b[39m\n",
       "\u001b[36m  3:4\u001b[39m"
      ]
     },
     "execution_count": 74,
     "metadata": {},
     "output_type": "execute_result"
    }
   ],
   "source": [
    "?view"
   ]
  },
  {
   "cell_type": "code",
   "execution_count": 78,
   "id": "34333e0d-f0e2-41e0-9306-d91b49681f15",
   "metadata": {},
   "outputs": [
    {
     "name": "stdout",
     "output_type": "stream",
     "text": [
      "search: \u001b[0m\u001b[1mC\u001b[22m\u001b[0m\u001b[1mS\u001b[22m\u001b[0m\u001b[1mV\u001b[22m \u001b[0m\u001b[1mc\u001b[22mro\u001b[0m\u001b[1ms\u001b[22msco\u001b[0m\u001b[1mv\u001b[22m \u001b[0m\u001b[1mc\u001b[22mro\u001b[0m\u001b[1ms\u001b[22msco\u001b[0m\u001b[1mv\u001b[22m! \u001b[0m\u001b[1mC\u001b[22montinuou\u001b[0m\u001b[1ms\u001b[22mUni\u001b[0m\u001b[1mv\u001b[22mariateDistribution\n",
      "\n"
     ]
    },
    {
     "data": {
      "text/latex": [
       "No documentation found.\n",
       "\n",
       "No docstring found for module \\texttt{CSV}.\n",
       "\n"
      ],
      "text/markdown": [
       "No documentation found.\n",
       "\n",
       "No docstring found for module `CSV`.\n"
      ],
      "text/plain": [
       "  No documentation found.\n",
       "\n",
       "  No docstring found for module \u001b[36mCSV\u001b[39m."
      ]
     },
     "execution_count": 78,
     "metadata": {},
     "output_type": "execute_result"
    }
   ],
   "source": [
    "? CSV"
   ]
  },
  {
   "cell_type": "code",
   "execution_count": null,
   "id": "3603b65d-6b9a-4240-9f62-8c8912257617",
   "metadata": {},
   "outputs": [],
   "source": []
  }
 ],
 "metadata": {
  "kernelspec": {
   "display_name": "Julia 1.6.0",
   "language": "julia",
   "name": "julia-1.6"
  },
  "language_info": {
   "file_extension": ".jl",
   "mimetype": "application/julia",
   "name": "julia",
   "version": "1.6.0"
  }
 },
 "nbformat": 4,
 "nbformat_minor": 5
}
